{
 "cells": [
  {
   "cell_type": "code",
   "execution_count": 2,
   "id": "2daab359",
   "metadata": {},
   "outputs": [
    {
     "name": "stdout",
     "output_type": "stream",
     "text": [
      "Divided by zero.\n"
     ]
    }
   ],
   "source": [
    "def test():\n",
    "    try:\n",
    "        result=3//0\n",
    "    except:\n",
    "        print(\"Divided by zero.\")\n",
    "        \n",
    "test()"
   ]
  },
  {
   "cell_type": "code",
   "execution_count": 7,
   "id": "0d9c203d",
   "metadata": {},
   "outputs": [
    {
     "name": "stdout",
     "output_type": "stream",
     "text": [
      "1\n"
     ]
    }
   ],
   "source": [
    "def test(a,b):\n",
    "    try:\n",
    "        result=a//b\n",
    "        print(result)\n",
    "    except:\n",
    "        print(\"Divided by zero.\")\n",
    "        \n",
    "test(3,2)"
   ]
  },
  {
   "cell_type": "code",
   "execution_count": 15,
   "id": "427e1231",
   "metadata": {},
   "outputs": [
    {
     "name": "stdout",
     "output_type": "stream",
     "text": [
      "Name Error.\n"
     ]
    }
   ],
   "source": [
    "def test(a):\n",
    "    try:\n",
    "        if a<4:\n",
    "            result=a/(a-3)\n",
    "            \n",
    "        print(result)\n",
    "    \n",
    "    except ZeroDivisionError:\n",
    "        print(\"Divided by zero.\")\n",
    "      \n",
    "    except NameError:\n",
    "        print(\"Name Error.\")\n",
    "        \n",
    "test(5)"
   ]
  },
  {
   "cell_type": "code",
   "execution_count": 16,
   "id": "27a19393",
   "metadata": {},
   "outputs": [
    {
     "name": "stdout",
     "output_type": "stream",
     "text": [
      "Divided by zero.\n"
     ]
    }
   ],
   "source": [
    "def test(a):\n",
    "    try:\n",
    "        if a<4:\n",
    "            result=a/(a-3)\n",
    "            \n",
    "        print(result)\n",
    "    \n",
    "    except ZeroDivisionError:\n",
    "        print(\"Divided by zero.\")\n",
    "      \n",
    "    except NameError:\n",
    "        print(\"Name Error.\")\n",
    "        \n",
    "test(3)"
   ]
  },
  {
   "cell_type": "code",
   "execution_count": 17,
   "id": "da3a2c7c",
   "metadata": {},
   "outputs": [
    {
     "name": "stdout",
     "output_type": "stream",
     "text": [
      "-2.0\n"
     ]
    }
   ],
   "source": [
    "def test(a):\n",
    "    try:\n",
    "        if a<4:\n",
    "            result=a/(a-3)\n",
    "            \n",
    "        print(result)\n",
    "    \n",
    "    except ZeroDivisionError:\n",
    "        print(\"Divided by zero.\")\n",
    "      \n",
    "    except NameError:\n",
    "        print(\"Name Error.\")\n",
    "        \n",
    "test(2)"
   ]
  },
  {
   "cell_type": "code",
   "execution_count": 26,
   "id": "ed17a881",
   "metadata": {},
   "outputs": [
    {
     "name": "stdout",
     "output_type": "stream",
     "text": [
      "2.5\n"
     ]
    }
   ],
   "source": [
    "# Try with Else clause\n",
    "\n",
    "\n",
    "def test(a):\n",
    "    try:\n",
    "        result=a/(a-3)\n",
    "    \n",
    "    except ZeroDivisionError:\n",
    "        print(\"Divided by zero.\")\n",
    "            \n",
    "    else:\n",
    "        print(result)\n",
    "        \n",
    "test(5)"
   ]
  },
  {
   "cell_type": "code",
   "execution_count": 28,
   "id": "6ffda7ba",
   "metadata": {},
   "outputs": [
    {
     "name": "stdout",
     "output_type": "stream",
     "text": [
      "Divided by zero.\n",
      "Always executes.\n"
     ]
    }
   ],
   "source": [
    "# Finally keyword  -> it always executes\n",
    "\n",
    "def test(a):\n",
    "    try:\n",
    "        result=a/(a-3)\n",
    "    \n",
    "    except ZeroDivisionError:\n",
    "        print(\"Divided by zero.\")\n",
    "            \n",
    "    else:\n",
    "        print(result)\n",
    "    \n",
    "    finally:\n",
    "        print(\"Always executes.\")\n",
    "        \n",
    "test(3)\n",
    "    "
   ]
  },
  {
   "cell_type": "code",
   "execution_count": 4,
   "id": "3b59a366",
   "metadata": {},
   "outputs": [
    {
     "name": "stdout",
     "output_type": "stream",
     "text": [
      "an error occurred.\n"
     ]
    },
    {
     "ename": "NameError",
     "evalue": "Hi There",
     "output_type": "error",
     "traceback": [
      "\u001b[1;31m---------------------------------------------------------------------------\u001b[0m",
      "\u001b[1;31mNameError\u001b[0m                                 Traceback (most recent call last)",
      "Cell \u001b[1;32mIn[4], line 9\u001b[0m\n\u001b[0;32m      7\u001b[0m         \u001b[38;5;28mprint\u001b[39m(\u001b[38;5;124m\"\u001b[39m\u001b[38;5;124man error occurred.\u001b[39m\u001b[38;5;124m\"\u001b[39m)\n\u001b[0;32m      8\u001b[0m         \u001b[38;5;28;01mraise\u001b[39;00m\n\u001b[1;32m----> 9\u001b[0m \u001b[43mfunc\u001b[49m\u001b[43m(\u001b[49m\u001b[43m)\u001b[49m\n",
      "Cell \u001b[1;32mIn[4], line 5\u001b[0m, in \u001b[0;36mfunc\u001b[1;34m()\u001b[0m\n\u001b[0;32m      3\u001b[0m \u001b[38;5;28;01mdef\u001b[39;00m \u001b[38;5;21mfunc\u001b[39m():\n\u001b[0;32m      4\u001b[0m     \u001b[38;5;28;01mtry\u001b[39;00m:\n\u001b[1;32m----> 5\u001b[0m         \u001b[38;5;28;01mraise\u001b[39;00m \u001b[38;5;167;01mNameError\u001b[39;00m(\u001b[38;5;124m\"\u001b[39m\u001b[38;5;124mHi There\u001b[39m\u001b[38;5;124m\"\u001b[39m)\n\u001b[0;32m      6\u001b[0m     \u001b[38;5;28;01mexcept\u001b[39;00m \u001b[38;5;167;01mNameError\u001b[39;00m:\n\u001b[0;32m      7\u001b[0m         \u001b[38;5;28mprint\u001b[39m(\u001b[38;5;124m\"\u001b[39m\u001b[38;5;124man error occurred.\u001b[39m\u001b[38;5;124m\"\u001b[39m)\n",
      "\u001b[1;31mNameError\u001b[0m: Hi There"
     ]
    }
   ],
   "source": [
    "#raise exception\n",
    "\n",
    "def func():\n",
    "    try:\n",
    "        raise NameError(\"Hi There\")\n",
    "    except NameError:\n",
    "        print(\"an error occurred.\")\n",
    "        raise\n",
    "func()"
   ]
  },
  {
   "cell_type": "code",
   "execution_count": 5,
   "id": "54256812",
   "metadata": {},
   "outputs": [
    {
     "name": "stdout",
     "output_type": "stream",
     "text": [
      "an error occurred.\n"
     ]
    }
   ],
   "source": [
    "#raise exception\n",
    "\n",
    "def func():\n",
    "    try:\n",
    "        raise NameError(\"Hi There\")\n",
    "    except NameError:\n",
    "        print(\"an error occurred.\")\n",
    "        \n",
    "func()"
   ]
  },
  {
   "cell_type": "code",
   "execution_count": 7,
   "id": "a6c23f3b",
   "metadata": {},
   "outputs": [
    {
     "ename": "RuntimeError",
     "evalue": "A parsing error occurred",
     "output_type": "error",
     "traceback": [
      "\u001b[1;31m---------------------------------------------------------------------------\u001b[0m",
      "\u001b[1;31mValueError\u001b[0m                                Traceback (most recent call last)",
      "Cell \u001b[1;32mIn[7], line 3\u001b[0m, in \u001b[0;36mexample\u001b[1;34m()\u001b[0m\n\u001b[0;32m      2\u001b[0m \u001b[38;5;28;01mtry\u001b[39;00m:\n\u001b[1;32m----> 3\u001b[0m \t\u001b[38;5;28;43mint\u001b[39;49m\u001b[43m(\u001b[49m\u001b[38;5;124;43m'\u001b[39;49m\u001b[38;5;124;43mN/A\u001b[39;49m\u001b[38;5;124;43m'\u001b[39;49m\u001b[43m)\u001b[49m\n\u001b[0;32m      4\u001b[0m \u001b[38;5;28;01mexcept\u001b[39;00m \u001b[38;5;167;01mValueError\u001b[39;00m \u001b[38;5;28;01mas\u001b[39;00m e:\n",
      "\u001b[1;31mValueError\u001b[0m: invalid literal for int() with base 10: 'N/A'",
      "\nThe above exception was the direct cause of the following exception:\n",
      "\u001b[1;31mRuntimeError\u001b[0m                              Traceback (most recent call last)",
      "Cell \u001b[1;32mIn[7], line 7\u001b[0m\n\u001b[0;32m      4\u001b[0m \t\u001b[38;5;28;01mexcept\u001b[39;00m \u001b[38;5;167;01mValueError\u001b[39;00m \u001b[38;5;28;01mas\u001b[39;00m e:\n\u001b[0;32m      5\u001b[0m \t\t\u001b[38;5;28;01mraise\u001b[39;00m \u001b[38;5;167;01mRuntimeError\u001b[39;00m(\u001b[38;5;124m'\u001b[39m\u001b[38;5;124mA parsing error occurred\u001b[39m\u001b[38;5;124m'\u001b[39m) \u001b[38;5;28;01mfrom\u001b[39;00m \u001b[38;5;21;01me\u001b[39;00m\n\u001b[1;32m----> 7\u001b[0m \u001b[43mexample\u001b[49m\u001b[43m(\u001b[49m\u001b[43m)\u001b[49m\n",
      "Cell \u001b[1;32mIn[7], line 5\u001b[0m, in \u001b[0;36mexample\u001b[1;34m()\u001b[0m\n\u001b[0;32m      3\u001b[0m \t\u001b[38;5;28mint\u001b[39m(\u001b[38;5;124m'\u001b[39m\u001b[38;5;124mN/A\u001b[39m\u001b[38;5;124m'\u001b[39m)\n\u001b[0;32m      4\u001b[0m \u001b[38;5;28;01mexcept\u001b[39;00m \u001b[38;5;167;01mValueError\u001b[39;00m \u001b[38;5;28;01mas\u001b[39;00m e:\n\u001b[1;32m----> 5\u001b[0m \t\u001b[38;5;28;01mraise\u001b[39;00m \u001b[38;5;167;01mRuntimeError\u001b[39;00m(\u001b[38;5;124m'\u001b[39m\u001b[38;5;124mA parsing error occurred\u001b[39m\u001b[38;5;124m'\u001b[39m) \u001b[38;5;28;01mfrom\u001b[39;00m \u001b[38;5;21;01me\u001b[39;00m\n",
      "\u001b[1;31mRuntimeError\u001b[0m: A parsing error occurred"
     ]
    }
   ],
   "source": [
    "def example():\n",
    "\ttry:\n",
    "\t\tint('N/A')\n",
    "\texcept ValueError as e:\n",
    "\t\traise RuntimeError('A parsing error occurred') from e\n",
    "\n",
    "example()\n"
   ]
  },
  {
   "cell_type": "code",
   "execution_count": 8,
   "id": "131f09ef",
   "metadata": {
    "scrolled": true
   },
   "outputs": [
    {
     "name": "stdout",
     "output_type": "stream",
     "text": [
      "Help on class Exception in module builtins:\n",
      "\n",
      "class Exception(BaseException)\n",
      " |  Common base class for all non-exit exceptions.\n",
      " |  \n",
      " |  Method resolution order:\n",
      " |      Exception\n",
      " |      BaseException\n",
      " |      object\n",
      " |  \n",
      " |  Built-in subclasses:\n",
      " |      ArithmeticError\n",
      " |      AssertionError\n",
      " |      AttributeError\n",
      " |      BufferError\n",
      " |      ... and 16 other subclasses\n",
      " |  \n",
      " |  Methods defined here:\n",
      " |  \n",
      " |  __init__(self, /, *args, **kwargs)\n",
      " |      Initialize self.  See help(type(self)) for accurate signature.\n",
      " |  \n",
      " |  ----------------------------------------------------------------------\n",
      " |  Static methods defined here:\n",
      " |  \n",
      " |  __new__(*args, **kwargs) from builtins.type\n",
      " |      Create and return a new object.  See help(type) for accurate signature.\n",
      " |  \n",
      " |  ----------------------------------------------------------------------\n",
      " |  Methods inherited from BaseException:\n",
      " |  \n",
      " |  __delattr__(self, name, /)\n",
      " |      Implement delattr(self, name).\n",
      " |  \n",
      " |  __getattribute__(self, name, /)\n",
      " |      Return getattr(self, name).\n",
      " |  \n",
      " |  __reduce__(...)\n",
      " |      Helper for pickle.\n",
      " |  \n",
      " |  __repr__(self, /)\n",
      " |      Return repr(self).\n",
      " |  \n",
      " |  __setattr__(self, name, value, /)\n",
      " |      Implement setattr(self, name, value).\n",
      " |  \n",
      " |  __setstate__(...)\n",
      " |  \n",
      " |  __str__(self, /)\n",
      " |      Return str(self).\n",
      " |  \n",
      " |  add_note(...)\n",
      " |      Exception.add_note(note) --\n",
      " |      add a note to the exception\n",
      " |  \n",
      " |  with_traceback(...)\n",
      " |      Exception.with_traceback(tb) --\n",
      " |      set self.__traceback__ to tb and return self.\n",
      " |  \n",
      " |  ----------------------------------------------------------------------\n",
      " |  Data descriptors inherited from BaseException:\n",
      " |  \n",
      " |  __cause__\n",
      " |      exception cause\n",
      " |  \n",
      " |  __context__\n",
      " |      exception context\n",
      " |  \n",
      " |  __dict__\n",
      " |  \n",
      " |  __suppress_context__\n",
      " |  \n",
      " |  __traceback__\n",
      " |  \n",
      " |  args\n",
      "\n"
     ]
    }
   ],
   "source": [
    "help(Exception)"
   ]
  },
  {
   "cell_type": "code",
   "execution_count": 1,
   "id": "f185a132",
   "metadata": {},
   "outputs": [
    {
     "name": "stdout",
     "output_type": "stream",
     "text": [
      "Wrong data type\n",
      "600\n"
     ]
    }
   ],
   "source": [
    "def calculate_expenditure(list_of_expenditure):\n",
    "    total=0\n",
    "    for expenditure in list_of_expenditure:\n",
    "        if(type(expenditure) is int):\n",
    "            total+=expenditure\n",
    "        else:\n",
    "            print(\"Wrong data type\")\n",
    "            break\n",
    "    print(total)\n",
    "list_of_values=[100,200,300,\"400\",500]\n",
    "calculate_expenditure(list_of_values)\n"
   ]
  },
  {
   "cell_type": "code",
   "execution_count": 2,
   "id": "c4548093",
   "metadata": {},
   "outputs": [
    {
     "name": "stdout",
     "output_type": "stream",
     "text": [
      "Some error occured\n",
      "Returning back from function.\n"
     ]
    }
   ],
   "source": [
    "def calculate_expenditure(list_of_expenditure):\n",
    "    total=0\n",
    "    try:\n",
    "        for expenditure in list_of_expenditure:\n",
    "            total+=expenditure\n",
    "        print(total)\n",
    "    except:\n",
    "        print(\"Some error occured\")\n",
    "    print(\"Returning back from function.\")\n",
    "list_of_values=[100,200,300,\"400\",500]\n",
    "calculate_expenditure(list_of_values)\n"
   ]
  },
  {
   "cell_type": "code",
   "execution_count": 3,
   "id": "dfbbd6c2",
   "metadata": {},
   "outputs": [
    {
     "name": "stdout",
     "output_type": "stream",
     "text": [
      "Wrong data type\n"
     ]
    }
   ],
   "source": [
    "def calculate_expenditure(list_of_expenditure):\n",
    "    total=0\n",
    "    try:\n",
    "        for expenditure in list_of_expenditure:\n",
    "            total+=expenditure\n",
    "        print(\"Total:\",total)\n",
    "        avg=total/num_values\n",
    "        print(\"Average:\",avg)\n",
    "    except ZeroDivisionError:\n",
    "        print(\"Divide by Zero error\")\n",
    "    except TypeError:\n",
    "        print(\"Wrong data type\")\n",
    "    except:\n",
    "        print(\"Some error occured\")\n",
    "list_of_values=[100,200,300,\"400\",500]\n",
    "num_values=0\n",
    "calculate_expenditure(list_of_values)\n"
   ]
  },
  {
   "cell_type": "code",
   "execution_count": 4,
   "id": "efbbd047",
   "metadata": {},
   "outputs": [
    {
     "name": "stdout",
     "output_type": "stream",
     "text": [
      "Total: 1500\n",
      "Name error occured\n"
     ]
    }
   ],
   "source": [
    "def calculate_sum(list_of_expenditure):\n",
    "    total=0\n",
    "    try:\n",
    "        for expenditure in list_of_expenditure:\n",
    "            total+=expenditure\n",
    "        print(\"Total:\",total)\n",
    "        avg=total/no_values\n",
    "        print(\"Average:\",avg)\n",
    "    except ZeroDivisionError:\n",
    "        print(\"Divide by Zero error\")\n",
    "    except TypeError:\n",
    "        print(\"Wrong data type\")\n",
    "try:\n",
    "    list_of_values=[100,200,300,400,500]\n",
    "    num_values=len(list_of_values)\n",
    "    calculate_sum(list_of_values)\n",
    "except NameError:\n",
    "    print(\"Name error occured\")\n",
    "except:\n",
    "    print(\"Some error occured\")\n"
   ]
  },
  {
   "cell_type": "code",
   "execution_count": 5,
   "id": "d3d844fe",
   "metadata": {},
   "outputs": [
    {
     "name": "stdout",
     "output_type": "stream",
     "text": [
      "Value Error Occurred\n",
      "Take the card out of ATM\n"
     ]
    }
   ],
   "source": [
    "balance=1000\n",
    "amount=\"300Rs\"\n",
    "def take_card():\n",
    "    print(\"Take the card out of ATM\")\n",
    "try:\n",
    "    if balance>=int(amount):\n",
    "        print(\"Withdraw\")\n",
    "    else:\n",
    "        print(\"Invalid amount\")\n",
    "except TypeError:\n",
    "    print(\"Type Error Occurred\")\n",
    "except ValueError:\n",
    "    print(\"Value Error Occurred\")\n",
    "except:\n",
    "    print(\"Some error Occurred\")\n",
    "finally:\n",
    "    take_card()\n"
   ]
  },
  {
   "cell_type": "code",
   "execution_count": 6,
   "id": "d361754b",
   "metadata": {},
   "outputs": [
    {
     "name": "stdout",
     "output_type": "stream",
     "text": [
      "Value error\n",
      "Finally\n",
      "Done\n"
     ]
    }
   ],
   "source": [
    "def division(a,b):\n",
    "    try:\n",
    "        return int(a)/b\n",
    "    except TypeError:\n",
    "        print(\"Type error\")\n",
    "    except ValueError:\n",
    "        print(\"Value error\")\n",
    "    finally:\n",
    "        print(\"Finally\")\n",
    "    print(\"Done\")\n",
    "division('A',10)"
   ]
  },
  {
   "cell_type": "code",
   "execution_count": 7,
   "id": "567517b3",
   "metadata": {},
   "outputs": [
    {
     "name": "stdout",
     "output_type": "stream",
     "text": [
      "Function name error\n",
      "Sum finally\n",
      "Invocation finally\n"
     ]
    }
   ],
   "source": [
    "def find_sum(a,b):\n",
    "    try:\n",
    "        print(a+c)\n",
    "    except NameError:\n",
    "        print(\"Function name error\")\n",
    "    finally:\n",
    "        print(\"Sum finally\")\n",
    "try:\n",
    "    find_sum(12,13)\n",
    "except NameError:\n",
    "    print(\"Invocation name error\")\n",
    "finally:\n",
    "    print(\"Invocation finally\")"
   ]
  },
  {
   "cell_type": "code",
   "execution_count": 8,
   "id": "7ffc8f46",
   "metadata": {},
   "outputs": [
    {
     "name": "stdout",
     "output_type": "stream",
     "text": [
      "[1, 2, 3, 4]\n"
     ]
    }
   ],
   "source": [
    "l=[1,2,3]\n",
    "l.insert(5,4)\n",
    "print(l)"
   ]
  },
  {
   "cell_type": "code",
   "execution_count": 9,
   "id": "5994a0be",
   "metadata": {},
   "outputs": [
    {
     "name": "stdout",
     "output_type": "stream",
     "text": [
      "1\n",
      "<class 'int'>\n"
     ]
    }
   ],
   "source": [
    "t=(1)\n",
    "print(t)\n",
    "print(type(t))"
   ]
  },
  {
   "cell_type": "code",
   "execution_count": 11,
   "id": "fad808c0",
   "metadata": {},
   "outputs": [
    {
     "name": "stdout",
     "output_type": "stream",
     "text": [
      "0\n",
      "1\n",
      "2\n",
      "3\n"
     ]
    }
   ],
   "source": [
    "s={1,2,3,4,1,2,3,4}\n",
    "for i in range(len(s)):\n",
    "    print(i)"
   ]
  },
  {
   "cell_type": "code",
   "execution_count": null,
   "id": "d31414b2",
   "metadata": {},
   "outputs": [],
   "source": []
  }
 ],
 "metadata": {
  "kernelspec": {
   "display_name": "Python 3 (ipykernel)",
   "language": "python",
   "name": "python3"
  },
  "language_info": {
   "codemirror_mode": {
    "name": "ipython",
    "version": 3
   },
   "file_extension": ".py",
   "mimetype": "text/x-python",
   "name": "python",
   "nbconvert_exporter": "python",
   "pygments_lexer": "ipython3",
   "version": "3.11.1"
  }
 },
 "nbformat": 4,
 "nbformat_minor": 5
}
