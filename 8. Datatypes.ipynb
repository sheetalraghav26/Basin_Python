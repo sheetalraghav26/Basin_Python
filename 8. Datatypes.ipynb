{
 "cells": [
  {
   "cell_type": "markdown",
   "id": "c550928d",
   "metadata": {},
   "source": [
    "# String"
   ]
  },
  {
   "cell_type": "code",
   "execution_count": 1,
   "id": "2cddfd4b",
   "metadata": {},
   "outputs": [
    {
     "name": "stdout",
     "output_type": "stream",
     "text": [
      "My name is Jasmine.\n"
     ]
    }
   ],
   "source": [
    "name=\"My name is Jasmine.\"\n",
    "print(name)"
   ]
  },
  {
   "cell_type": "code",
   "execution_count": 2,
   "id": "7ddeaebc",
   "metadata": {},
   "outputs": [
    {
     "name": "stdout",
     "output_type": "stream",
     "text": [
      "2912262239248\n"
     ]
    }
   ],
   "source": [
    "print(id(name))"
   ]
  },
  {
   "cell_type": "code",
   "execution_count": 3,
   "id": "fd6b0fc7",
   "metadata": {},
   "outputs": [
    {
     "name": "stdout",
     "output_type": "stream",
     "text": [
      "2912261929872\n"
     ]
    }
   ],
   "source": [
    "name='My name is Robert.'\n",
    "print(id(name))"
   ]
  },
  {
   "cell_type": "code",
   "execution_count": 4,
   "id": "de4fc04a",
   "metadata": {},
   "outputs": [
    {
     "name": "stdout",
     "output_type": "stream",
     "text": [
      "My name is Robert.\n"
     ]
    }
   ],
   "source": [
    "print(name)"
   ]
  },
  {
   "cell_type": "code",
   "execution_count": 5,
   "id": "f342a611",
   "metadata": {},
   "outputs": [
    {
     "name": "stdout",
     "output_type": "stream",
     "text": [
      "My name is Kinsey,\n",
      "I'm 19 years old.\n"
     ]
    }
   ],
   "source": [
    "intro = \"\"\"My name is Kinsey,\n",
    "I'm 19 years old.\"\"\"\n",
    "print(intro)"
   ]
  },
  {
   "cell_type": "code",
   "execution_count": 6,
   "id": "83a4d95f",
   "metadata": {},
   "outputs": [
    {
     "data": {
      "text/plain": [
       "\"My name is Kinsey,\\nI'm 19 years old.\""
      ]
     },
     "execution_count": 6,
     "metadata": {},
     "output_type": "execute_result"
    }
   ],
   "source": [
    "intro"
   ]
  },
  {
   "cell_type": "code",
   "execution_count": 10,
   "id": "f5fbd38d",
   "metadata": {},
   "outputs": [
    {
     "name": "stdout",
     "output_type": "stream",
     "text": [
      "ymmiJ\n"
     ]
    }
   ],
   "source": [
    "name=\"Jimmy\"\n",
    "print(''.join(reversed(name)))\n"
   ]
  },
  {
   "cell_type": "code",
   "execution_count": 13,
   "id": "a00ec988",
   "metadata": {},
   "outputs": [
    {
     "data": {
      "text/plain": [
       "'ymmiJ'"
      ]
     },
     "execution_count": 13,
     "metadata": {},
     "output_type": "execute_result"
    }
   ],
   "source": [
    "name[::-1]"
   ]
  },
  {
   "cell_type": "code",
   "execution_count": 17,
   "id": "3a6461f4",
   "metadata": {},
   "outputs": [
    {
     "data": {
      "text/plain": [
       "'ymmiJ'"
      ]
     },
     "execution_count": 17,
     "metadata": {},
     "output_type": "execute_result"
    }
   ],
   "source": [
    "name[-1::-1]"
   ]
  },
  {
   "cell_type": "code",
   "execution_count": 20,
   "id": "edfabf12",
   "metadata": {},
   "outputs": [
    {
     "name": "stdout",
     "output_type": "stream",
     "text": [
      "Initial String: \n",
      "Hello, I'm a Geek\n",
      "\n",
      "Updating character at 2nd Index: \n",
      "Heplo, I'm a Geek\n",
      "Heplo, I'm a Geek\n"
     ]
    }
   ],
   "source": [
    "# Python Program to Update\n",
    "# character of a String\n",
    "\n",
    "String1 = \"Hello, I'm a Geek\"\n",
    "print(\"Initial String: \")\n",
    "print(String1)\n",
    "\n",
    "# Updating a character of the String\n",
    "## As python strings are immutable, they don't support item updation directly\n",
    "### there are following two ways\n",
    "#1\n",
    "list1 = list(String1)\n",
    "list1[2] = 'p'\n",
    "String2 = ''.join(list1)\n",
    "print(\"\\nUpdating character at 2nd Index: \")\n",
    "print(String2)\n",
    "\n",
    "#2\n",
    "String3 = String1[0:2] + 'p' + String1[3:]\n",
    "print(String3)\n"
   ]
  },
  {
   "cell_type": "code",
   "execution_count": 21,
   "id": "c7feb8c3",
   "metadata": {},
   "outputs": [
    {
     "name": "stdout",
     "output_type": "stream",
     "text": [
      "Initial String: \n",
      "Hello, I'm a Geek\n",
      "\n",
      "Deleting character at 2nd Index: \n",
      "Helo, I'm a Geek\n"
     ]
    }
   ],
   "source": [
    "# Python Program to Delete\n",
    "# characters from a String\n",
    "\n",
    "String1 = \"Hello, I'm a Geek\"\n",
    "print(\"Initial String: \")\n",
    "print(String1)\n",
    "\n",
    "# Deleting a character\n",
    "# of the String\n",
    "String2 = String1[0:2] + String1[3:]\n",
    "print(\"\\nDeleting character at 2nd Index: \")\n",
    "print(String2)\n",
    "\n"
   ]
  },
  {
   "cell_type": "code",
   "execution_count": 7,
   "id": "28ac7315",
   "metadata": {},
   "outputs": [
    {
     "name": "stdout",
     "output_type": "stream",
     "text": [
      "45 50 90 "
     ]
    }
   ],
   "source": [
    "for num in 23, 45, 50, 65, 76, 90:\n",
    "    if(num%5!=0):\n",
    "        continue\n",
    "    if(num%10==0):\n",
    "        print(num, end=\" \")\n",
    "        continue\n",
    "    if(num%3==0):\n",
    "        print(num, end=\" \")"
   ]
  },
  {
   "cell_type": "code",
   "execution_count": 1,
   "id": "1c4c8955",
   "metadata": {},
   "outputs": [
    {
     "name": "stdout",
     "output_type": "stream",
     "text": [
      "*********effect of pass by value*********\n",
      "num_val before function call: 10\n",
      "num_val after function call: 10\n",
      "-----------------------------------------------\n",
      "*********effect of pass by reference*********\n",
      "val_list before function call: [5, 10, 15]\n",
      "val_list after function call: [5, 10, 15, 20]\n"
     ]
    }
   ],
   "source": [
    "def change_number(num):\n",
    "    num+=10\n",
    "def change_list(num_list):\n",
    "    num_list.append(20)\n",
    "num_val=10\n",
    "print(\"*********effect of pass by value*********\")\n",
    "print(\"num_val before function call:\", num_val)\n",
    "change_number(num_val)\n",
    "print(\"num_val after function call:\", num_val)\n",
    "print(\"-----------------------------------------------\")\n",
    "val_list=[5,10,15]\n",
    "print(\"*********effect of pass by reference*********\")\n",
    "print(\"val_list before function call:\", val_list)\n",
    "change_list(val_list)\n",
    "print(\"val_list after function call:\", val_list)\n"
   ]
  },
  {
   "cell_type": "code",
   "execution_count": 7,
   "id": "899baed6",
   "metadata": {},
   "outputs": [
    {
     "name": "stdout",
     "output_type": "stream",
     "text": [
      "code-1: positional arguments\n",
      "Flight Number: FN789\n",
      "Seating Capacity: 200\n",
      "Flight Number: 300\n",
      "Seating Capacity: FN123\n",
      "-------------------------------------------------\n",
      "code-2: keyword arguments\n",
      "Flight Number: FN789\n",
      "Seating Capacity: 250\n",
      "-------------------------------------------------\n",
      "code-3: default arguments\n",
      "Flight Number: FN789\n",
      "Flight Make: Eagle\n",
      "Seating Capacity: 150\n",
      "Flight Number: FN234\n",
      "Flight Make: Boeing\n",
      "Seating Capacity: 150\n",
      "Flight Number: FN678\n",
      "Flight Make: Qantas\n",
      "Seating Capacity: 200\n",
      "-------------------------------------------------\n",
      "code-4: variable argument count\n",
      "Passenger name: Jack\n",
      "Total baggage weight in kg: 25\n",
      "Passenger name: Chan\n",
      "Total baggage weight in kg: 32\n",
      "Passenger name: Henry\n",
      "Total baggage weight in kg: 23\n"
     ]
    }
   ],
   "source": [
    "def display1(flight_number, seating_capacity):\n",
    "    print(\"Flight Number:\", flight_number)\n",
    "    print(\"Seating Capacity:\", seating_capacity)\n",
    "print(\"code-1: positional arguments\")\n",
    "display1(\"FN789\",200)\n",
    "#Uncomment and execute the below function call statement and observe the output\n",
    "display1(300,\"FN123\")\n",
    "def display2(flight_number, seating_capacity):\n",
    "    print(\"Flight Number:\", flight_number)\n",
    "    print(\"Seating Capacity:\", seating_capacity)\n",
    "print(\"-------------------------------------------------\")\n",
    "print(\"code-2: keyword arguments\")\n",
    "display2(seating_capacity=250, flight_number=\"FN789\")\n",
    "def display3(flight_number, flight_make=\"Boeing\", seating_capacity=150):\n",
    "    print(\"Flight Number:\", flight_number)\n",
    "    print(\"Flight Make:\", flight_make)\n",
    "    print(\"Seating Capacity:\", seating_capacity)\n",
    "print(\"-------------------------------------------------\")\n",
    "print(\"code-3: default arguments\")\n",
    "display3(\"FN789\",\"Eagle\")\n",
    "#Uncomment and execute the below function call statements one by one and observe the output\n",
    "display3(\"FN234\")\n",
    "display3(\"FN678\",\"Qantas\",200)\n",
    "def display4(passenger_name, *baggage_tuple):\n",
    "    print(\"Passenger name:\",passenger_name)\n",
    "    total_wt=0\n",
    "    for baggage_wt in baggage_tuple:\n",
    "        total_wt+=baggage_wt\n",
    "    print(\"Total baggage weight in kg:\", total_wt)\n",
    "print(\"-------------------------------------------------\")\n",
    "print(\"code-4: variable argument count\")\n",
    "display4(\"Jack\",12,8,5)\n",
    "#Uncomment and execute the below function call statements one by one and observe the output\n",
    "display4(\"Chan\",20,12)\n",
    "display4(\"Henry\",23)\n"
   ]
  },
  {
   "cell_type": "code",
   "execution_count": 8,
   "id": "8f8ef46e",
   "metadata": {},
   "outputs": [
    {
     "name": "stdout",
     "output_type": "stream",
     "text": [
      "This airline allows baggage limit till 30 kgs\n",
      "Pay the extra baggage charge of 500 rupees\n",
      "This airline now allows baggage limit till 45 kgs\n",
      "Pay the extra baggage charge of 500 rupees\n"
     ]
    }
   ],
   "source": [
    "wt_limit=30\n",
    "def baggage_check(baggage_wt):\n",
    "    extra_baggage_charge=0\n",
    "    if not(baggage_wt>=0 and baggage_wt<=wt_limit):\n",
    "        extra_baggage=baggage_wt-wt_limit\n",
    "        extra_baggage_charge=extra_baggage*100\n",
    "    return extra_baggage_charge\n",
    "def update_baggage_limit(new_wt_limit):\n",
    "    wt_limit=new_wt_limit\n",
    "    print(\"This airline now allows baggage limit till\",wt_limit,\"kgs\")\n",
    "print(\"This airline allows baggage limit till\",wt_limit,\"kgs\")\n",
    "print(\"Pay the extra baggage charge of\",baggage_check(35),\"rupees\")\n",
    "update_baggage_limit(45)\n",
    "print(\"Pay the extra baggage charge of\",baggage_check(35),\"rupees\")\n"
   ]
  },
  {
   "cell_type": "code",
   "execution_count": 9,
   "id": "832abc29",
   "metadata": {},
   "outputs": [
    {
     "name": "stdout",
     "output_type": "stream",
     "text": [
      "This airline allows baggage limit till 30 kgs\n",
      "Pay the extra baggage charge of 500 rupees\n",
      "This airline now allows baggage limit till 45 kgs\n",
      "Pay the extra baggage charge of 500 rupees\n"
     ]
    }
   ],
   "source": [
    "wt_limit=30\n",
    "def baggage_check(baggage_wt):\n",
    "    extra_baggage_charge=0\n",
    "    if not(baggage_wt>=0 and baggage_wt<=wt_limit):\n",
    "        extra_baggage=baggage_wt-wt_limit\n",
    "        extra_baggage_charge=extra_baggage*100\n",
    "    return extra_baggage_charge\n",
    "def update_baggage_limit(new_wt_limit):\n",
    "    wt_limit=new_wt_limit\n",
    "    print(\"This airline now allows baggage limit till\",wt_limit,\"kgs\")\n",
    "print(\"This airline allows baggage limit till\",wt_limit,\"kgs\")\n",
    "print(\"Pay the extra baggage charge of\",baggage_check(35),\"rupees\")\n",
    "update_baggage_limit(45)\n",
    "print(\"Pay the extra baggage charge of\",baggage_check(35),\"rupees\")\n"
   ]
  },
  {
   "cell_type": "code",
   "execution_count": 10,
   "id": "b77401c3",
   "metadata": {},
   "outputs": [
    {
     "ename": "NameError",
     "evalue": "name 'result_avg' is not defined",
     "output_type": "error",
     "traceback": [
      "\u001b[1;31m---------------------------------------------------------------------------\u001b[0m",
      "\u001b[1;31mNameError\u001b[0m                                 Traceback (most recent call last)",
      "Cell \u001b[1;32mIn[10], line 7\u001b[0m\n\u001b[0;32m      5\u001b[0m     result_avg\u001b[38;5;241m=\u001b[39mresult_sum\u001b[38;5;241m/\u001b[39m\u001b[38;5;28mlen\u001b[39m(list_num)\n\u001b[0;32m      6\u001b[0m find_avg([\u001b[38;5;241m5\u001b[39m,\u001b[38;5;241m8\u001b[39m,\u001b[38;5;241m5\u001b[39m])\n\u001b[1;32m----> 7\u001b[0m \u001b[38;5;28mprint\u001b[39m(\u001b[43mresult_avg\u001b[49m)\n",
      "\u001b[1;31mNameError\u001b[0m: name 'result_avg' is not defined"
     ]
    }
   ],
   "source": [
    "def find_avg(list_num):\n",
    "    result_sum=0\n",
    "    for num in list_num:\n",
    "        result_sum+=num\n",
    "    result_avg=result_sum/len(list_num)\n",
    "find_avg([5,8,5])\n",
    "print(result_avg)"
   ]
  },
  {
   "cell_type": "code",
   "execution_count": 24,
   "id": "99dfc928",
   "metadata": {},
   "outputs": [
    {
     "name": "stdout",
     "output_type": "stream",
     "text": [
      "3\n"
     ]
    }
   ],
   "source": [
    "count=0\n",
    "def adjacent(l,count):\n",
    "    for i in range(len(l)-1):\n",
    "        if l[i]==l[i+1]:\n",
    "            count=count+1\n",
    "        else:\n",
    "            continue\n",
    "    return count\n",
    "            \n",
    "result=adjacent([1,2,2,3,4,4,4,10],count)\n",
    "print(result)"
   ]
  },
  {
   "cell_type": "code",
   "execution_count": 25,
   "id": "8cd3b41c",
   "metadata": {},
   "outputs": [
    {
     "name": "stdout",
     "output_type": "stream",
     "text": [
      "Length of the PAN card number: 10\n",
      "PAN card\n",
      "Iterating the string using range()\n",
      "A\n",
      "A\n",
      "B\n",
      "G\n",
      "T\n",
      "6\n",
      "7\n",
      "1\n",
      "5\n",
      "H\n",
      "Iterating the string using keyword in\n",
      "A\n",
      "A\n",
      "B\n",
      "G\n",
      "T\n",
      "6\n",
      "7\n",
      "1\n",
      "5\n",
      "H\n",
      "Searching for a character in string\n",
      "Character is not present\n",
      "The numbers in the PAN card number: 6715\n",
      "Last but one 3 characters in the PAN card: 715\n"
     ]
    },
    {
     "ename": "TypeError",
     "evalue": "'str' object does not support item assignment",
     "output_type": "error",
     "traceback": [
      "\u001b[1;31m---------------------------------------------------------------------------\u001b[0m",
      "\u001b[1;31mTypeError\u001b[0m                                 Traceback (most recent call last)",
      "Cell \u001b[1;32mIn[25], line 25\u001b[0m\n\u001b[0;32m     23\u001b[0m \u001b[38;5;28mprint\u001b[39m(\u001b[38;5;124m\"\u001b[39m\u001b[38;5;124mThe numbers in the PAN card number:\u001b[39m\u001b[38;5;124m\"\u001b[39m, pancard_number[\u001b[38;5;241m5\u001b[39m:\u001b[38;5;241m9\u001b[39m])\n\u001b[0;32m     24\u001b[0m \u001b[38;5;28mprint\u001b[39m(\u001b[38;5;124m\"\u001b[39m\u001b[38;5;124mLast but one 3 characters in the PAN card:\u001b[39m\u001b[38;5;124m\"\u001b[39m,pancard_number[\u001b[38;5;241m-\u001b[39m\u001b[38;5;241m4\u001b[39m:\u001b[38;5;241m-\u001b[39m\u001b[38;5;241m1\u001b[39m])\n\u001b[1;32m---> 25\u001b[0m \u001b[43mpancard_number\u001b[49m\u001b[43m[\u001b[49m\u001b[38;5;241;43m2\u001b[39;49m\u001b[43m]\u001b[49m\u001b[38;5;241m=\u001b[39m\u001b[38;5;124m\"\u001b[39m\u001b[38;5;124mA\u001b[39m\u001b[38;5;124m\"\u001b[39m \u001b[38;5;66;03m#This line will result in an error, i.e., string is immutable\u001b[39;00m\n\u001b[0;32m     26\u001b[0m \u001b[38;5;28mprint\u001b[39m(pancard_number)\n",
      "\u001b[1;31mTypeError\u001b[0m: 'str' object does not support item assignment"
     ]
    }
   ],
   "source": [
    "#Creating a string\n",
    "pancard_number=\"AABGT6715H\"\n",
    "#Length of the string\n",
    "print(\"Length of the PAN card number:\", len(pancard_number))\n",
    "#Concatenating two strings\n",
    "name1 =\"PAN \"\n",
    "name2=\"card\"\n",
    "name=name1+name2\n",
    "print(name)\n",
    "print(\"Iterating the string using range()\")\n",
    "for index in range(0,len(pancard_number)):\n",
    "    print(pancard_number[index])\n",
    "    \n",
    "print(\"Iterating the string using keyword in\")\n",
    "for value in pancard_number:\n",
    "    print(value)\n",
    "print(\"Searching for a character in string\")\n",
    "if \"Z\" in pancard_number:\n",
    "    print(\"Character present\")\n",
    "else:\n",
    "    print(\"Character is not present\")\n",
    "#Slicing a string\n",
    "print(\"The numbers in the PAN card number:\", pancard_number[5:9])\n",
    "print(\"Last but one 3 characters in the PAN card:\",pancard_number[-4:-1])\n",
    "pancard_number[2]=\"A\" #This line will result in an error, i.e., string is immutable\n",
    "print(pancard_number)\n"
   ]
  },
  {
   "cell_type": "code",
   "execution_count": null,
   "id": "5b57b968",
   "metadata": {},
   "outputs": [],
   "source": [
    "Write a Python program to generate the ticket numbers for specified number of passengers traveling in a flight as per the details mentioned below:\n",
    "The ticket number should be generated as airline:src:dest:number where\n",
    "\n",
    "Consider AL1 as the value for airline\n",
    "\n",
    "src and dest should be the first three characters of the source and destination cities.\n",
    "\n",
    "number should be auto-generated starting from 101\n",
    "\n",
    "The program should return the list of ticket numbers of last five passengers.\n",
    "Note: If passenger count is less than 5, then return the list of all generated ticket numbers."
   ]
  },
  {
   "cell_type": "code",
   "execution_count": 26,
   "id": "1ebe33f9",
   "metadata": {},
   "outputs": [
    {
     "name": "stdout",
     "output_type": "stream",
     "text": [
      "[0, 0, 10, 20, 30]\n"
     ]
    }
   ],
   "source": [
    "my_list=[0]*5\n",
    "for index in range(1,5):\n",
    "\tmy_list[index]=(index-1)*10\n",
    "print(my_list)"
   ]
  },
  {
   "cell_type": "code",
   "execution_count": 27,
   "id": "cce9be43",
   "metadata": {},
   "outputs": [
    {
     "name": "stdout",
     "output_type": "stream",
     "text": [
      "48\n"
     ]
    }
   ],
   "source": [
    "import random\n",
    "x=10\n",
    "y=50\n",
    "print(random.randrange(x,y))\n"
   ]
  },
  {
   "cell_type": "code",
   "execution_count": 28,
   "id": "b24b9234",
   "metadata": {},
   "outputs": [
    {
     "name": "stdout",
     "output_type": "stream",
     "text": [
      "The smallest integer greater than or equal to num1, 234.01 : 235\n",
      "The largest integer smaller than or equal to num1, 234.01 : 234\n",
      "The factorial of num2, 6 : 720\n",
      "The absolute value of num3 -27.01 : 27.01\n"
     ]
    }
   ],
   "source": [
    "import math\n",
    "num1=234.01\n",
    "num2=6\n",
    "num3=-27.01\n",
    "print(\"The smallest integer greater than or equal to num1,\",num1,\":\",math.ceil(num1))\n",
    "print(\"The largest integer smaller than or equal to num1,\",num1,\":\",math.floor(num1))\n",
    "print(\"The factorial of num2,\",num2,\":\", math.factorial(num2))\n",
    "print(\"The absolute value of num3\",num3,\":\",math.fabs(num3))\n"
   ]
  },
  {
   "cell_type": "code",
   "execution_count": 29,
   "id": "eebcc9de",
   "metadata": {},
   "outputs": [
    {
     "name": "stdout",
     "output_type": "stream",
     "text": [
      "Good Morning, this is the final call to AL passengers for the flight AL 466 which is planned to take off at 8.40A.M.\n",
      "Welcome to Air Lines.\n",
      "Passengers are requested to have their breakfast.\n",
      "Flight Number is specified to the passengers.\n",
      "Total number of times flight service name is specified in the boarding call: 2\n",
      "THANK YOU ALL..HAVE A NICE JOURNEY!\n",
      "thank you all..have a nice journey!\n"
     ]
    }
   ],
   "source": [
    "boarding_call=\"Good Evening, this is the final call to AL passengers for the flight AL 466 which is planned to take off at 8.40A.M.\"\n",
    "if(boarding_call.startswith(\"Good Evening\")):\n",
    "    print(boarding_call.replace(\"Good Evening\",\"Good Morning\"))\n",
    "if(boarding_call.find(\"AL\"))>=0:\n",
    "    print(\"Welcome to Air Lines.\")\n",
    "if(boarding_call.endswith(\"A.M.\")):\n",
    "    print(\"Passengers are requested to have their breakfast.\")\n",
    "a=boarding_call.split(\" \")\n",
    "for i in a:\n",
    "    if(i.isdigit()):\n",
    "        print(\"Flight Number is specified to the passengers.\")\n",
    "print(\"Total number of times flight service name is specified in the boarding call:\",boarding_call.count(\"AL\"))\n",
    "message=\"Thank you all..Have a nice journey!\"\n",
    "print(message.upper())\n",
    "print(message.lower())\n"
   ]
  },
  {
   "cell_type": "code",
   "execution_count": 30,
   "id": "11289945",
   "metadata": {},
   "outputs": [
    {
     "name": "stdout",
     "output_type": "stream",
     "text": [
      "Before update:\n",
      "Co-pilot: Raghav\n",
      "\n",
      "After update:\n",
      "Co-pilot: Henry\n",
      "Flight Attendant: Jane\n"
     ]
    }
   ],
   "source": [
    "crew_details={\n",
    "    \"Pilot\":\"Kumar\",\n",
    "    \"Co-pilot\":\"Raghav\",\n",
    "    \"Head-Strewardess\":\"Malini\",\n",
    "    \"Stewardess\":\"Mala\"\n",
    "}\n",
    "print(\"Before update:\")\n",
    "print(\"Co-pilot:\",crew_details.get(\"Co-pilot\"))\n",
    "crew_details.update({\"Flight Attendant\":\"Jane\", \"Co-pilot\":\"Henry\"})\n",
    "print(\"\\nAfter update:\")\n",
    "print(\"Co-pilot:\",crew_details.get(\"Co-pilot\"))\n",
    "print(\"Flight Attendant:\",crew_details[\"Flight Attendant\"])\n"
   ]
  },
  {
   "cell_type": "code",
   "execution_count": 31,
   "id": "ea180b70",
   "metadata": {},
   "outputs": [
    {
     "name": "stdout",
     "output_type": "stream",
     "text": [
      "1 5 10\n"
     ]
    }
   ],
   "source": [
    "sample_dict={'a':1,'b':2}\n",
    "sample_dict.update({'b':5, 'c':10 })\n",
    "print(sample_dict.get('a'),sample_dict.get('b'),sample_dict.get('c'))"
   ]
  },
  {
   "cell_type": "code",
   "execution_count": 32,
   "id": "981ed730",
   "metadata": {},
   "outputs": [
    {
     "name": "stdout",
     "output_type": "stream",
     "text": [
      "New AirlineS4\n"
     ]
    }
   ],
   "source": [
    "import re\n",
    "word=\"New Airlines4\"\n",
    "if(re.search(r\"^N\",word) and re.search(r\"e$\",word)):\n",
    "    print(re.sub(r\"New\",r\"Old\",word))\n",
    "else:\n",
    "    print(re.sub(r\"s(\\d{1})\",r\"S\\1\",word))"
   ]
  },
  {
   "cell_type": "code",
   "execution_count": 40,
   "id": "ba3758dd",
   "metadata": {},
   "outputs": [
    {
     "name": "stdout",
     "output_type": "stream",
     "text": [
      "Enter a year: 1000\n",
      "1000 is not a leap year.\n"
     ]
    }
   ],
   "source": [
    "# Write a Python program to check whether the given year is leap year or not.\n",
    "\n",
    "year=int(input(\"Enter a year: \"))\n",
    "if (year % 4 == 0 and year % 100 !=0 or year % 400 == 0 ):\n",
    "    print(f\"{year} is a leap year.\")\n",
    "else:\n",
    "    print(f\"{year} is not a leap year.\")"
   ]
  },
  {
   "cell_type": "code",
   "execution_count": 48,
   "id": "92bf2d9e",
   "metadata": {},
   "outputs": [
    {
     "name": "stdout",
     "output_type": "stream",
     "text": [
      "Enter three numbers: 5 5 5\n",
      "5 is greatest among all.\n"
     ]
    }
   ],
   "source": [
    "# Write a Python program to find and display the maximum of three given numbers.\n",
    "\n",
    "num1,num2,num3 = input(\"Enter three numbers: \").split()\n",
    "if(num1>num2 and num1>num3):\n",
    "    print(f\"{num1} is greatest among all.\")\n",
    "elif(num2>num3):\n",
    "        print(f\"{num2} is greatest among all.\")\n",
    "else:\n",
    "        print(f\"{num3} is greatest among all.\")    \n",
    "        "
   ]
  },
  {
   "cell_type": "code",
   "execution_count": 64,
   "id": "f40b56fe",
   "metadata": {},
   "outputs": [
    {
     "name": "stdout",
     "output_type": "stream",
     "text": [
      "Enter a number: 191\n",
      "191 is a prime number.\n"
     ]
    }
   ],
   "source": [
    "# Write a Python program to check the given number is prime number or not.\n",
    "\n",
    "number=int(input(\"Enter a number: \"))\n",
    "count=0\n",
    "for i in range(2,number):\n",
    "    if(number%i==0):\n",
    "        count=count+1\n",
    "        break\n",
    "    else:\n",
    "        continue\n",
    "\n",
    "if count==0:\n",
    "    print(f\"{number} is a prime number.\")\n",
    "else:\n",
    "    print(f\"{number} is not a prime number.\")"
   ]
  },
  {
   "cell_type": "code",
   "execution_count": 70,
   "id": "01b9af16",
   "metadata": {},
   "outputs": [
    {
     "name": "stdout",
     "output_type": "stream",
     "text": [
      "Enter a limit: 10\n",
      "0 1 1 2 3 5 8 13 21 34 "
     ]
    }
   ],
   "source": [
    "# Write a Python program to print first n Fibonacci numbers.\n",
    "\n",
    "start=0\n",
    "last=1\n",
    "add=0\n",
    "limit=int(input(\"Enter a limit: \"))\n",
    "print(start,end=' ')\n",
    "print(last,end=' ')\n",
    "for i in range(2,limit):\n",
    "    add=start+last\n",
    "    print(add,end=' ')\n",
    "    start=last\n",
    "    last=add"
   ]
  },
  {
   "cell_type": "markdown",
   "id": "45408b6b",
   "metadata": {},
   "source": [
    "Ques - An organization has decided to provide salary hike to its employees based on their job level. Employees can be in job levels 3 , 4 or 5. Hike percentage based on job levels are given below:\n",
    "\n",
    "\n",
    "<table  style=\"width:30%\">\n",
    "    <tr>\n",
    "        <th>Job Level</th>\n",
    "        <th>Hike Percentage (applicable on current salary)</th>\n",
    "     <tr>\n",
    "    <tr>\n",
    "        <td>3</td>\n",
    "        <td>15</td> \n",
    "    </tr>\n",
    "    <tr>\n",
    "        <td>4</td>\n",
    "        <td>7</td>\n",
    "    </tr>\n",
    "    <tr>\n",
    "    <td>5</td>\n",
    "    <td>5</td>\n",
    "    </tr>\n",
    "    \n",
    "</table>\n",
    " \n",
    "\n",
    "In case of invalid job level, consider hike percentage to be 0.\n",
    "\n",
    "Given the current salary and job level, write a Python program to find and display the new salary of an employee."
   ]
  },
  {
   "cell_type": "code",
   "execution_count": 81,
   "id": "edccdeff",
   "metadata": {},
   "outputs": [
    {
     "name": "stdout",
     "output_type": "stream",
     "text": [
      "Enter Employee Job level and current salary: 3 30000\n",
      "Salary after 15% hike will be : 34500.0\n"
     ]
    }
   ],
   "source": [
    "jobLevel,currentSalary=input(\"Enter Employee Job level and current salary: \").split()\n",
    "jobLevel=int(jobLevel)\n",
    "currentSalary=float(currentSalary)\n",
    "if(jobLevel==3):\n",
    "    newSalary=currentSalary+currentSalary*0.15\n",
    "    print(f\"Salary after 15% hike will be : {newSalary}\")\n",
    "elif(jobLevel==4):\n",
    "    newSalary=currentSalary+currentSalary*0.07\n",
    "    print(f\"Salary after 7% hike will be : {newSalary}\")\n",
    "elif(jobLevel==5):\n",
    "    newSalary=currentSalary+currentSalary*0.05\n",
    "    print(f\"Salary after 5% hike will be : {newSalary}\")\n",
    "else:\n",
    "    print(f\"There is no increment in salary. Salary will remain {currentSalary}\")"
   ]
  },
  {
   "cell_type": "code",
   "execution_count": 2,
   "id": "91956221",
   "metadata": {},
   "outputs": [
    {
     "name": "stdout",
     "output_type": "stream",
     "text": [
      "Enter a number: 6\n",
      "Factorial of 6 is 720.\n"
     ]
    }
   ],
   "source": [
    "# Write a Python function factorial(num) which returns the factorial of a given number.\n",
    "\n",
    "\n",
    "def factorial(num):\n",
    "    f=1\n",
    "    while(num>0):\n",
    "        f=f*num\n",
    "        num-=1\n",
    "    return f    \n",
    "        \n",
    "number=int(input(\"Enter a number: \"))\n",
    "fact=factorial(number)\n",
    "print(f\"Factorial of {number} is {fact}.\")\n"
   ]
  },
  {
   "cell_type": "code",
   "execution_count": 100,
   "id": "fbda34d3",
   "metadata": {},
   "outputs": [
    {
     "name": "stdout",
     "output_type": "stream",
     "text": [
      "Enter a number: 12321\n",
      "Number is palindrome\n"
     ]
    }
   ],
   "source": [
    "\"\"\"Write a Python Function is_palindrome(num) that accepts an integer num as argument and returns True if the num is palindrome \n",
    "else returns false. Invoke the function and based on return value print the output.\n",
    "Example: num=12321 output: Given number is a palindrome, num=12345 output: Given number is not a palindrome \"\"\"\n",
    "\n",
    "def is_pallindrome(num):\n",
    "    r=0\n",
    "    s=0\n",
    "    while(num>0):\n",
    "        s=s*10+num%10\n",
    "        num=num//10\n",
    "    return s\n",
    "\n",
    "number=int(input(\"Enter a number: \"))\n",
    "pal=is_pallindrome(number)\n",
    "if(pal==number):\n",
    "    print(\"Number is palindrome\")\n",
    "else:\n",
    "    print(\"Number is not plaindrome\")"
   ]
  },
  {
   "cell_type": "code",
   "execution_count": 109,
   "id": "b6e9bea1",
   "metadata": {},
   "outputs": [
    {
     "name": "stdout",
     "output_type": "stream",
     "text": [
      "Enter two numbers: 220 284\n",
      "Numbers are amicable numbers.\n"
     ]
    }
   ],
   "source": [
    "\"\"\"Write a Python function check_amicable_numbers(num1, num2) that accepts two numbers num1 and num2 as arguments and returns \n",
    "True if the given pair of numbers are amicable numbers else return false. \n",
    "Invoke the function and based on return value print the numbers are amicable numbers or not.\n",
    "\n",
    "num1 and num2 are said to be amicable numbers if sum of all the proper devisors (except num1 itself) of num1 is equal to num2 \n",
    "and sum of all the proper devisors of num2 (except num1 itself) is equal to num1.\n",
    "\n",
    "Example: 220 and 284 are amicable numbers as\n",
    "\n",
    "Proper divisors of 220 are 1, 2, 4, 5, 10, 11, 20, 22, 44, 55, 110 whose sum is 284\n",
    "\n",
    "Proper divisors of 284 are 1, 2, 4, 71, 142 whose sum is 220 \"\"\"\n",
    "\n",
    "\n",
    "def check_amicable_numbers(num1,num2):\n",
    "    sum1=0\n",
    "    sum2=0\n",
    "    for i in range(1,num1):\n",
    "        if num1%i==0:\n",
    "            sum1=sum1+i\n",
    "            \n",
    "    for j in range(1,num2):\n",
    "        if num2%j==0:\n",
    "            sum2=sum2+j\n",
    "            \n",
    "    if (sum1==num2 and sum2==num1):\n",
    "        return True\n",
    "    else:\n",
    "        return False\n",
    "    \n",
    "    \n",
    "num1,num2=map(int,input(\"Enter two numbers: \").split())\n",
    "result=check_amicable_numbers(num1,num2)\n",
    "if result == True:\n",
    "    print(\"Numbers are amicable numbers.\")\n",
    "else:\n",
    "    print(\"Numbers are non amicable numbers.\")\n"
   ]
  },
  {
   "cell_type": "code",
   "execution_count": 110,
   "id": "4279b6c7",
   "metadata": {},
   "outputs": [
    {
     "name": "stdout",
     "output_type": "stream",
     "text": [
      "Enter a number and number of times to shift it: 60 2\n",
      "After right shift 2 times number is 15\n"
     ]
    }
   ],
   "source": [
    "\"\"\"Write a Python function right_shift(num, n) that takes two numbers num and n as  arguments and returns value of the integer num rotated to the right by n positions. Assume both the numbers are unsigned. Invoke the function and print the return value.\n",
    "\n",
    "Hint: use >> binary operator to shift the bits.\n",
    "\n",
    "Example: num=60, n=2 result=15\"\"\"\n",
    "\n",
    "def right_shift(num,n):\n",
    "    shift=num>>n\n",
    "    return shift    \n",
    "    \n",
    "    \n",
    "num,n=map(int,input(\"Enter a number and number of times to shift it: \").split())\n",
    "result=right_shift(num,n)\n",
    "print(f\"After right shift {n} times number is {result}\")\n"
   ]
  },
  {
   "cell_type": "code",
   "execution_count": 2,
   "id": "595a350a",
   "metadata": {},
   "outputs": [
    {
     "name": "stdout",
     "output_type": "stream",
     "text": [
      "Enter a number: 145\n",
      "145 is a strong Number\n"
     ]
    }
   ],
   "source": [
    "\"\"\"Write a Python function check_strong_number(num) that accepts a positive integer as argument and returns True if the \n",
    "number is strong number else false. Invoke the function and based on return value print the number is strong number or not.\n",
    "\n",
    "A number is said to be strong number, if the sum of factorial of each digit of the number is equal to the given number.\n",
    "\n",
    "Example:145 is strong number as\n",
    "\n",
    "1!=1\n",
    "\n",
    "4!=24\n",
    "\n",
    "5!=120\n",
    "\n",
    "Sum of all these is 145\"\"\"\n",
    "from math import factorial\n",
    "def check_strong_number(num):\n",
    "    r=0\n",
    "    s=0\n",
    "    n=num\n",
    "    while(num>0):\n",
    "        r=num%10\n",
    "        s=s+factorial(r)\n",
    "        num=num//10\n",
    "    \n",
    "    if s==n:\n",
    "        return True\n",
    "    else:\n",
    "        False \n",
    "    \n",
    "    \n",
    "num=int(input(\"Enter a number: \"))\n",
    "result=check_strong_number(num)\n",
    "if result==True:\n",
    "    print(f\"{num} is a strong Number\")\n",
    "else:\n",
    "    print(f\"{num} is not a strong number.\")"
   ]
  },
  {
   "cell_type": "code",
   "execution_count": 9,
   "id": "3a817fbb",
   "metadata": {},
   "outputs": [
    {
     "name": "stdout",
     "output_type": "stream",
     "text": [
      "Enter a number: 220\n",
      "[1, 2, 4, 5, 10, 11, 20, 22, 44, 55, 110]\n"
     ]
    }
   ],
   "source": [
    "\"\"\"Write a Python function proper_divisors(num) which returns a list of all the proper divisors of given number.\n",
    "\n",
    "Example: Proper divisors of 220 are 1, 2, 4, 5, 10, 11, 20, 22, 44, 55, 110\"\"\"\n",
    "\n",
    "\n",
    "def proper_divisors(num):\n",
    "    result=[]\n",
    "    for i in range(1,num//2+1):\n",
    "        if num%i==0:\n",
    "            result.append(i)      \n",
    "    \n",
    "    return result   \n",
    "    \n",
    "    \n",
    "    \n",
    "num=int(input(\"Enter a number: \"))\n",
    "result=proper_divisors(num)\n",
    "print(result)"
   ]
  },
  {
   "cell_type": "code",
   "execution_count": 29,
   "id": "0051ccef",
   "metadata": {},
   "outputs": [
    {
     "name": "stdout",
     "output_type": "stream",
     "text": [
      "Enter a limit: 10\n",
      "[0, 1, 1, 2, 3, 5, 8, 13, 21, 34]\n"
     ]
    }
   ],
   "source": [
    "\"\"\"Write a Python function generate_fibanacci(n) to return a list of first n Fibonacci numbers.\"\"\"\n",
    "\n",
    "def generate_fibanacci(n):\n",
    "    start=0\n",
    "    last=1\n",
    "    add=0\n",
    "    fib=[0,1]\n",
    "    for i in range(2,n):\n",
    "        add=start+last\n",
    "        fib.append(add)\n",
    "        start=last\n",
    "        last=add\n",
    "    return fib\n",
    "        \n",
    "        \n",
    "n=int(input(\"Enter a limit: \"))\n",
    "fibo=generate_fibanacci(n)\n",
    "print(fibo)"
   ]
  },
  {
   "cell_type": "code",
   "execution_count": 33,
   "id": "1526640a",
   "metadata": {},
   "outputs": [
    {
     "name": "stdout",
     "output_type": "stream",
     "text": [
      "Enter current year: 2023\n",
      "[2024, 2028, 2032, 2036, 2040, 2044, 2048, 2052, 2056, 2060, 2064, 2068, 2072, 2076, 2080]\n"
     ]
    }
   ],
   "source": [
    "\"\"\"Write a Python program to generate the next 15 leap years starting from a given year. \n",
    "Populate the leap years into a list and display the list.\"\"\"\n",
    "\n",
    "def leap_years(year):\n",
    "    leap_years_list=[]\n",
    "    for i in range(year,year+100):\n",
    "        if len(leap_years_list)!=15:\n",
    "            if (i%4==0 and i%100!=0 or i%400==0):\n",
    "                leap_years_list.append(i)\n",
    "        else:\n",
    "            break\n",
    "    \n",
    "    return leap_years_list  \n",
    "    \n",
    "    \n",
    "\n",
    "year=int(input(\"Enter current year: \"))\n",
    "leap_years_list=leap_years(year)\n",
    "print(leap_years_list)"
   ]
  },
  {
   "cell_type": "code",
   "execution_count": 48,
   "id": "f0f49135",
   "metadata": {},
   "outputs": [
    {
     "name": "stdout",
     "output_type": "stream",
     "text": [
      "Enter a message: ABCAACC\n",
      "1A1B1C2A2C\n"
     ]
    }
   ],
   "source": [
    "\"\"\"Given a string containing uppercase characters (A-Z), compress the string using Run Length encoding. \n",
    "Repetition of character has to be replaced by storing the length of that run.\n",
    "\n",
    "Write a python function encode(message)  which performs the run length encoding for a given String and returns the run \n",
    "length encoded String.\n",
    "\n",
    "Provide different String values and test your program.\n",
    "\n",
    "Example: message=AAAABBBBCCCCCCCC  output: 4A4B8C\"\"\"\n",
    "\n",
    "def encode(message):\n",
    "    count=1\n",
    "    final_msg=[]\n",
    "    for i in range(0,len(message)-1):\n",
    "        if message[i]==message[i+1]:\n",
    "            count+=1\n",
    "        else:\n",
    "            final_msg.append(str(count))\n",
    "            final_msg.append(message[i])\n",
    "            count=1\n",
    "    \n",
    "    final_msg.append(str(count))\n",
    "    final_msg.append(message[i+1])       \n",
    "    final_msg=\"\".join(final_msg)\n",
    "    return final_msg            \n",
    "     \n",
    "msg=input(\"Enter a message: \")\n",
    "result=encode(msg)\n",
    "print(result)"
   ]
  },
  {
   "cell_type": "code",
   "execution_count": 56,
   "id": "5a8cd644",
   "metadata": {},
   "outputs": [
    {
     "name": "stdout",
     "output_type": "stream",
     "text": [
      "Enter your wishes: merry christmas and happy new year\n",
      "god jul och gott nytt ar\n"
     ]
    }
   ],
   "source": [
    "\"\"\"Represent a small bilingual (English-Swedish) glossary given below as a Python dictionary\n",
    "\n",
    "{\"merry\":\"god\", \"christmas\":\"jul\", \"and\":\"och\", \"happy\":\"gott\", \"new\":\"nytt\", \"year\":\"ar\"} \n",
    "\n",
    "and use it to translate your Christmas wishes from English into Swedish.\n",
    "\n",
    "That is, write a Python function translate(b_dict,list_words) that accepts the bilingual dictionary and a list of English words\n",
    "(your Christmas wish) and returns a list of equivalent Swedish words. \"\"\"\n",
    "\n",
    "\n",
    "def translate(b_dict,list_words):\n",
    "    list_words=list_words.split(\" \")\n",
    "    converted_msg=[]\n",
    "    for i in list_words:\n",
    "        if i in b_dict.keys():\n",
    "            converted_msg.append(b_dict.get(i))\n",
    "        else:\n",
    "            pass\n",
    "        \n",
    "    converted_msg=\" \".join(converted_msg)\n",
    "    return converted_msg\n",
    "\n",
    "\n",
    "b_dict={\"merry\":\"god\", \n",
    "            \"christmas\":\"jul\", \n",
    "            \"and\":\"och\", \n",
    "            \"happy\":\"gott\", \n",
    "            \"new\":\"nytt\", \n",
    "            \"year\":\"ar\"} \n",
    "\n",
    "list_words=input(\"Enter your wishes: \")\n",
    "converted=translate(b_dict,list_words)\n",
    "print(converted)\n",
    "\n",
    "\n"
   ]
  },
  {
   "cell_type": "code",
   "execution_count": 119,
   "id": "10c131b9",
   "metadata": {},
   "outputs": [
    {
     "name": "stdout",
     "output_type": "stream",
     "text": [
      "Enter a message: the sun rises in the east\n",
      "eht snu sesir ni eht stea\n"
     ]
    }
   ],
   "source": [
    "\"\"\"Write a python function, encrypt_sentence(msg) which accepts a message and encrypts it based on rules given below \n",
    "and returns the encrypted message.\n",
    " \n",
    "\n",
    "Words at odd position -> Reverse It\n",
    "\n",
    "Words at even position -> Rearrange the characters so that all consonants appear before the vowels and their order should not \n",
    "change\n",
    "\n",
    "Note: Assume that the sentence would begin with a word and there will be only a single space between the words.\n",
    "\n",
    "          Perform case sensitive string operations wherever necessary.\n",
    "\n",
    "Example: msg=the sun rises in the east    output=eht snu sesir ni eht stea\n",
    "\n",
    "\"\"\"\n",
    "\n",
    "def encrypt_sentence(msg):\n",
    "    msg=msg.split(\" \")\n",
    "    for i in range(0,len(msg)):\n",
    "        if i%2==0:\n",
    "            letter=[]\n",
    "            for j in range(len(msg[i])-1,-1,-1):\n",
    "                letter.append(msg[i][j])\n",
    "            msg[i]=''.join(letter)\n",
    "        else:\n",
    "            letter=[]\n",
    "            vowels=[]\n",
    "            cons=[]\n",
    "            for j in range(0,len(msg[i])):\n",
    "                if (msg[i][j]=='a' or msg[i][j]=='A' or msg[i][j]=='e' or msg[i][j]=='E' or msg[i][j]=='i' or msg[i][j]=='I' or \n",
    "                    msg[i][j]=='o' or msg[i][j]=='O' or msg[i][j]=='u' or msg[i][j]=='U'):\n",
    "                    vowels.append(msg[i][j])\n",
    "                else:\n",
    "                    cons.append(msg[i][j])\n",
    "            letter=cons+vowels\n",
    "            msg[i]=''.join(letter)\n",
    "    msg=' '.join(msg)\n",
    "    return msg\n",
    "                                    \n",
    "\n",
    "msg=input(\"Enter a message: \")\n",
    "encrypted_msg=encrypt_sentence(msg)\n",
    "print(encrypted_msg)"
   ]
  },
  {
   "cell_type": "code",
   "execution_count": null,
   "id": "33a9dd7d",
   "metadata": {},
   "outputs": [],
   "source": [
    "\"\"\"Write a Python program to find the number of characters present the given string.\"\"\"\n",
    "\n"
   ]
  }
 ],
 "metadata": {
  "kernelspec": {
   "display_name": "Python 3 (ipykernel)",
   "language": "python",
   "name": "python3"
  },
  "language_info": {
   "codemirror_mode": {
    "name": "ipython",
    "version": 3
   },
   "file_extension": ".py",
   "mimetype": "text/x-python",
   "name": "python",
   "nbconvert_exporter": "python",
   "pygments_lexer": "ipython3",
   "version": "3.11.1"
  }
 },
 "nbformat": 4,
 "nbformat_minor": 5
}
