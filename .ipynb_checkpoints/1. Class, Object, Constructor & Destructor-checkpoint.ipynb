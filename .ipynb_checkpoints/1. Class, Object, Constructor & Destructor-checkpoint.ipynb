{
 "cells": [
  {
   "cell_type": "code",
   "execution_count": 1,
   "id": "de37d616",
   "metadata": {},
   "outputs": [
    {
     "name": "stdout",
     "output_type": "stream",
     "text": [
      "This is student class.\n"
     ]
    }
   ],
   "source": [
    "class student:\n",
    "    def __init__(self):  # default constructor \n",
    "        print(\"This is student class.\")\n",
    "        \n",
    "        \n",
    "obj=student()"
   ]
  },
  {
   "cell_type": "code",
   "execution_count": 13,
   "id": "f328334e",
   "metadata": {},
   "outputs": [
    {
     "ename": "TypeError",
     "evalue": "student.__init__() takes 0 positional arguments but 1 was given",
     "output_type": "error",
     "traceback": [
      "\u001b[1;31m---------------------------------------------------------------------------\u001b[0m",
      "\u001b[1;31mTypeError\u001b[0m                                 Traceback (most recent call last)",
      "Cell \u001b[1;32mIn[13], line 6\u001b[0m\n\u001b[0;32m      2\u001b[0m     \u001b[38;5;28;01mdef\u001b[39;00m \u001b[38;5;21m__init__\u001b[39m(): \u001b[38;5;66;03m# self is required to pass as an argument.\u001b[39;00m\n\u001b[0;32m      3\u001b[0m         \u001b[38;5;28mprint\u001b[39m(\u001b[38;5;124m\"\u001b[39m\u001b[38;5;124mThis is student class.\u001b[39m\u001b[38;5;124m\"\u001b[39m)\n\u001b[1;32m----> 6\u001b[0m obj\u001b[38;5;241m=\u001b[39m\u001b[43mstudent\u001b[49m\u001b[43m(\u001b[49m\u001b[43m)\u001b[49m\n",
      "\u001b[1;31mTypeError\u001b[0m: student.__init__() takes 0 positional arguments but 1 was given"
     ]
    }
   ],
   "source": [
    "class student:\n",
    "    def __init__(): # self is required to pass as an argument.\n",
    "        print(\"This is student class.\")\n",
    "        \n",
    "        \n",
    "obj=student()"
   ]
  },
  {
   "cell_type": "code",
   "execution_count": 9,
   "id": "e1ad57ad",
   "metadata": {},
   "outputs": [
    {
     "name": "stdout",
     "output_type": "stream",
     "text": [
      "Name:  Rohan\n",
      "Age:  27\n",
      "Name:  Piyush\n",
      "Age:  25\n"
     ]
    }
   ],
   "source": [
    "class student:\n",
    "    def __init__(self,name,age): # parametrized constructor\n",
    "        self.name=name\n",
    "        self.age=age\n",
    "        \n",
    "    def intro(self):\n",
    "        print(\"Name: \",self.name)\n",
    "        print(\"Age: \",self.age)\n",
    "        \n",
    "        \n",
    "obj1=student(\"Rohan\",27)\n",
    "obj2=student(\"Piyush\",25)\n",
    "\n",
    "obj1.intro()\n",
    "obj2.intro()\n",
    "\n",
    "\n"
   ]
  },
  {
   "cell_type": "code",
   "execution_count": 12,
   "id": "45a84adb",
   "metadata": {},
   "outputs": [
    {
     "name": "stdout",
     "output_type": "stream",
     "text": [
      "Rodger is a mammal.\n",
      "Smith is also a mammal.\n",
      "My name is Rodger.\n",
      "My name is Smith.\n"
     ]
    }
   ],
   "source": [
    "class mammal:\n",
    "    \n",
    "    att1=\"mammal\"\n",
    "    \n",
    "    def __init__(self,name):\n",
    "        self.name=name\n",
    "        \n",
    "        \n",
    "Rodger=mammal(\"Rodger\")\n",
    "Smith=mammal(\"Smith\")\n",
    "\n",
    "print(\"Rodger is a {}.\".format(Rodger.__class__.att1))\n",
    "print(\"Smith is also a {}.\".format(Smith.__class__.att1))\n",
    "\n",
    "print(\"My name is {}.\".format(Rodger.name))\n",
    "print(\"My name is {}.\".format(Smith.name))"
   ]
  },
  {
   "cell_type": "code",
   "execution_count": 14,
   "id": "dca5b6b6",
   "metadata": {},
   "outputs": [
    {
     "name": "stdout",
     "output_type": "stream",
     "text": [
      "Jimmy is a dog.\n",
      "Snowy is a cat.\n"
     ]
    }
   ],
   "source": [
    "class Animal:\n",
    "    \n",
    "    def __init__(self,name):\n",
    "        self.name=name\n",
    "        \n",
    "    def dog(self):\n",
    "        print(f\"{self.name} is a dog.\")\n",
    "        \n",
    "    def cat(self):\n",
    "        print(f\"{self.name} is a cat.\")\n",
    "        \n",
    "Jimmy=Animal(\"Jimmy\")\n",
    "Snowy=Animal(\"Snowy\")\n",
    "\n",
    "Jimmy.dog()\n",
    "Snowy.cat()"
   ]
  },
  {
   "cell_type": "code",
   "execution_count": 2,
   "id": "86b10f3f",
   "metadata": {},
   "outputs": [
    {
     "name": "stdout",
     "output_type": "stream",
     "text": [
      "Area of sqaure is 100.\n",
      "Area of sqaure is 400.\n"
     ]
    }
   ],
   "source": [
    "# Area of square\n",
    "\n",
    "class area:\n",
    "    \n",
    "    def __init__(self,s):\n",
    "        self.side=s\n",
    "        \n",
    "    def display(self):\n",
    "        print(f\"Area of sqaure is {self.area}.\")\n",
    "        \n",
    "    def calculate(self):\n",
    "        self.area=self.side*self.side\n",
    "        \n",
    "obj1=area(10)\n",
    "obj2=area(20)\n",
    "\n",
    "obj1.calculate()\n",
    "obj2.calculate()\n",
    "\n",
    "obj1.display()\n",
    "obj2.display()"
   ]
  },
  {
   "cell_type": "code",
   "execution_count": 3,
   "id": "e375a76c",
   "metadata": {},
   "outputs": [
    {
     "name": "stdout",
     "output_type": "stream",
     "text": [
      "Object Created.\n",
      "Object Deleted.\n"
     ]
    }
   ],
   "source": [
    "# Destructor\n",
    "\n",
    "class Student:\n",
    "    \n",
    "    def __init__(self):\n",
    "        print(\"Object Created.\")\n",
    "        \n",
    "    def __del__(self):\n",
    "        print(\"Object Deleted.\")\n",
    "        \n",
    "obj=Student()\n",
    "del obj"
   ]
  },
  {
   "cell_type": "code",
   "execution_count": null,
   "id": "7189532b",
   "metadata": {},
   "outputs": [],
   "source": []
  }
 ],
 "metadata": {
  "kernelspec": {
   "display_name": "Python 3 (ipykernel)",
   "language": "python",
   "name": "python3"
  },
  "language_info": {
   "codemirror_mode": {
    "name": "ipython",
    "version": 3
   },
   "file_extension": ".py",
   "mimetype": "text/x-python",
   "name": "python",
   "nbconvert_exporter": "python",
   "pygments_lexer": "ipython3",
   "version": "3.11.1"
  }
 },
 "nbformat": 4,
 "nbformat_minor": 5
}
