{
 "cells": [
  {
   "cell_type": "code",
   "execution_count": 5,
   "id": "f57a0d20",
   "metadata": {},
   "outputs": [
    {
     "name": "stdout",
     "output_type": "stream",
     "text": [
      "Calling protected member from subclass: 2\n",
      "Calling modified protected member outside class: 5\n",
      "Accessing protected member from obj: 5\n",
      "Accessing protected member from obj1: 2\n"
     ]
    }
   ],
   "source": [
    "# Protected members\n",
    "\n",
    "class test(object):\n",
    "    \n",
    "    def __init__(self):\n",
    "        self._a=2\n",
    "        \n",
    "class demo(test):\n",
    "    \n",
    "    def __init__(self):\n",
    "        \n",
    "        test.__init__(self)\n",
    "        print(f\"Calling protected member from subclass: {self._a}\")\n",
    "        \n",
    "        self._a=5\n",
    "        print(f\"Calling modified protected member outside class: {self._a}\")\n",
    "        \n",
    "obj=demo()\n",
    "obj1=test()\n",
    "\n",
    "print(f\"Accessing protected member from obj: {obj._a}\") # can access protected member outside the class but should not be done due to convention.\n",
    "print(f\"Accessing protected member from obj1: {obj1._a}\")"
   ]
  },
  {
   "cell_type": "code",
   "execution_count": 16,
   "id": "8d9163f0",
   "metadata": {},
   "outputs": [
    {
     "ename": "AttributeError",
     "evalue": "'demo' object has no attribute '_demo__a'",
     "output_type": "error",
     "traceback": [
      "\u001b[1;31m---------------------------------------------------------------------------\u001b[0m",
      "\u001b[1;31mAttributeError\u001b[0m                            Traceback (most recent call last)",
      "Cell \u001b[1;32mIn[16], line 15\u001b[0m\n\u001b[0;32m     12\u001b[0m         test\u001b[38;5;241m.\u001b[39m\u001b[38;5;21m__init__\u001b[39m(\u001b[38;5;28mself\u001b[39m)\n\u001b[0;32m     13\u001b[0m         \u001b[38;5;28mprint\u001b[39m(\u001b[38;5;124mf\u001b[39m\u001b[38;5;124m\"\u001b[39m\u001b[38;5;124mCalling protected member from subclass: \u001b[39m\u001b[38;5;132;01m{\u001b[39;00m\u001b[38;5;28mself\u001b[39m\u001b[38;5;241m.\u001b[39m__a\u001b[38;5;132;01m}\u001b[39;00m\u001b[38;5;124m\"\u001b[39m) \u001b[38;5;66;03m# can't access through base class \u001b[39;00m\n\u001b[1;32m---> 15\u001b[0m obj\u001b[38;5;241m=\u001b[39m\u001b[43mdemo\u001b[49m\u001b[43m(\u001b[49m\u001b[43m)\u001b[49m\n\u001b[0;32m     16\u001b[0m \u001b[38;5;28mprint\u001b[39m(obj\u001b[38;5;241m.\u001b[39ma) \u001b[38;5;66;03m# can't access outside the class as well. We can access it but not recommended.\u001b[39;00m\n",
      "Cell \u001b[1;32mIn[16], line 13\u001b[0m, in \u001b[0;36mdemo.__init__\u001b[1;34m(self)\u001b[0m\n\u001b[0;32m     10\u001b[0m \u001b[38;5;28;01mdef\u001b[39;00m \u001b[38;5;21m__init__\u001b[39m(\u001b[38;5;28mself\u001b[39m):\n\u001b[0;32m     12\u001b[0m     test\u001b[38;5;241m.\u001b[39m\u001b[38;5;21m__init__\u001b[39m(\u001b[38;5;28mself\u001b[39m)\n\u001b[1;32m---> 13\u001b[0m     \u001b[38;5;28mprint\u001b[39m(\u001b[38;5;124mf\u001b[39m\u001b[38;5;124m\"\u001b[39m\u001b[38;5;124mCalling protected member from subclass: \u001b[39m\u001b[38;5;132;01m{\u001b[39;00m\u001b[38;5;28;43mself\u001b[39;49m\u001b[38;5;241;43m.\u001b[39;49m\u001b[43m__a\u001b[49m\u001b[38;5;132;01m}\u001b[39;00m\u001b[38;5;124m\"\u001b[39m)\n",
      "\u001b[1;31mAttributeError\u001b[0m: 'demo' object has no attribute '_demo__a'"
     ]
    }
   ],
   "source": [
    "# Private members\n",
    "\n",
    "class test(object):\n",
    "    \n",
    "    def __init__(self):\n",
    "        self.__a=2\n",
    "        \n",
    "class demo(test):\n",
    "    \n",
    "    def __init__(self):\n",
    "        \n",
    "        test.__init__(self)\n",
    "        print(f\"Calling protected member from subclass: {self.__a}\") # can't access through base class \n",
    "        \n",
    "obj=demo()\n",
    "print(obj.a) # can't access outside the class as well. We can access it but not recommended."
   ]
  },
  {
   "cell_type": "code",
   "execution_count": null,
   "id": "1f902640",
   "metadata": {},
   "outputs": [],
   "source": []
  }
 ],
 "metadata": {
  "kernelspec": {
   "display_name": "Python 3 (ipykernel)",
   "language": "python",
   "name": "python3"
  },
  "language_info": {
   "codemirror_mode": {
    "name": "ipython",
    "version": 3
   },
   "file_extension": ".py",
   "mimetype": "text/x-python",
   "name": "python",
   "nbconvert_exporter": "python",
   "pygments_lexer": "ipython3",
   "version": "3.11.1"
  }
 },
 "nbformat": 4,
 "nbformat_minor": 5
}
