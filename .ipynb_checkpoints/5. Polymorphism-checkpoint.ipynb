{
 "cells": [
  {
   "cell_type": "code",
   "execution_count": 4,
   "id": "1f398db1",
   "metadata": {},
   "outputs": [
    {
     "name": "stdout",
     "output_type": "stream",
     "text": [
      "New Delhi is the capital of India.\n",
      "Hindi is the primary language of India.\n",
      "India is a developing country.\n",
      "Washington DC is the capital of USA.\n",
      "English is the primary language of USA.\n",
      "USA is a developed country.\n"
     ]
    }
   ],
   "source": [
    "# Polymorphism with class methods\n",
    "\n",
    "class India():\n",
    "    \n",
    "    def capital(self):\n",
    "        print(\"New Delhi is the capital of India.\")\n",
    "        \n",
    "    def language(self):\n",
    "        print(\"Hindi is the primary language of India.\")\n",
    "        \n",
    "    def type(self):\n",
    "        print(\"India is a developing country.\")\n",
    "\n",
    "class USA():\n",
    "    \n",
    "    def capital(self):\n",
    "        print(\"Washington DC is the capital of USA.\")\n",
    "        \n",
    "    def language(self):\n",
    "        print(\"English is the primary language of USA.\")\n",
    "        \n",
    "    def type(self):\n",
    "        print(\"USA is a developed country.\")\n",
    "        \n",
    "obj_india=India()\n",
    "obj_usa=USA()\n",
    "\n",
    "for i in (obj_india,obj_usa):\n",
    "    i.capital()\n",
    "    i.language()\n",
    "    i.type()"
   ]
  },
  {
   "cell_type": "code",
   "execution_count": 8,
   "id": "ea217fa6",
   "metadata": {},
   "outputs": [
    {
     "name": "stdout",
     "output_type": "stream",
     "text": [
      "Country name is India and its capital is New Delhi.\n",
      "Country name is India.\n"
     ]
    }
   ],
   "source": [
    "# Polymorphism with Inheritance\n",
    "\n",
    "\n",
    "class country(object):\n",
    "    \n",
    "    def __init__(self,country_name):\n",
    "        self.cntry=country_name\n",
    "        \n",
    "    def display(self):\n",
    "        print(f\"Country name is {self.cntry}.\")\n",
    "        \n",
    "class capital(country):\n",
    "    \n",
    "    def __init__(self,country_name,capital_name):\n",
    "        self.capital=capital_name\n",
    "        \n",
    "        country.__init__(self,country_name)\n",
    "        \n",
    "    def display(self):\n",
    "        print(f\"Country name is {self.cntry} and its capital is {self.capital}.\")\n",
    "        \n",
    "\n",
    "obj=capital(\"India\",\"New Delhi\")\n",
    "obj_country=country(\"India\")\n",
    "obj.display()\n",
    "obj_country.display()"
   ]
  },
  {
   "cell_type": "code",
   "execution_count": 11,
   "id": "ad530e45",
   "metadata": {},
   "outputs": [
    {
     "name": "stdout",
     "output_type": "stream",
     "text": [
      "New Delhi is the capital of India.\n",
      "Hindi is the primary language of India.\n",
      "India is a developing country.\n",
      "Washington DC is the capital of USA.\n",
      "English is the primary language of USA.\n",
      "USA is a developed country.\n"
     ]
    }
   ],
   "source": [
    "# Polymorphism with a function and object\n",
    "\n",
    "class India():\n",
    "    \n",
    "    def capital(self):\n",
    "        print(\"New Delhi is the capital of India.\")\n",
    "        \n",
    "    def language(self):\n",
    "        print(\"Hindi is the primary language of India.\")\n",
    "        \n",
    "    def type(self):\n",
    "        print(\"India is a developing country.\")\n",
    "\n",
    "class USA():\n",
    "    \n",
    "    def capital(self):\n",
    "        print(\"Washington DC is the capital of USA.\")\n",
    "        \n",
    "    def language(self):\n",
    "        print(\"English is the primary language of USA.\")\n",
    "        \n",
    "    def type(self):\n",
    "        print(\"USA is a developed country.\")\n",
    "        \n",
    "def func(obj):\n",
    "    obj.capital()\n",
    "    obj.language()\n",
    "    obj.type()\n",
    "\n",
    "obj_india=India()\n",
    "obj_usa=USA()\n",
    "func(obj_india)\n",
    "func(obj_usa)\n",
    "\n"
   ]
  },
  {
   "cell_type": "code",
   "execution_count": null,
   "id": "74774cdd",
   "metadata": {},
   "outputs": [],
   "source": []
  }
 ],
 "metadata": {
  "kernelspec": {
   "display_name": "Python 3 (ipykernel)",
   "language": "python",
   "name": "python3"
  },
  "language_info": {
   "codemirror_mode": {
    "name": "ipython",
    "version": 3
   },
   "file_extension": ".py",
   "mimetype": "text/x-python",
   "name": "python",
   "nbconvert_exporter": "python",
   "pygments_lexer": "ipython3",
   "version": "3.11.1"
  }
 },
 "nbformat": 4,
 "nbformat_minor": 5
}
