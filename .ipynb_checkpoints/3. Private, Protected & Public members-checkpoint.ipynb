{
 "cells": [
  {
   "cell_type": "code",
   "execution_count": 37,
   "id": "4337e001",
   "metadata": {},
   "outputs": [
    {
     "name": "stdout",
     "output_type": "stream",
     "text": [
      "5\n",
      "6\n"
     ]
    },
    {
     "ename": "AttributeError",
     "evalue": "'child' object has no attribute 'b'",
     "output_type": "error",
     "traceback": [
      "\u001b[1;31m---------------------------------------------------------------------------\u001b[0m",
      "\u001b[1;31mAttributeError\u001b[0m                            Traceback (most recent call last)",
      "Cell \u001b[1;32mIn[37], line 21\u001b[0m\n\u001b[0;32m     19\u001b[0m \u001b[38;5;28mprint\u001b[39m(obj\u001b[38;5;241m.\u001b[39ma)\n\u001b[0;32m     20\u001b[0m \u001b[38;5;28mprint\u001b[39m(obj\u001b[38;5;241m.\u001b[39mc)\n\u001b[1;32m---> 21\u001b[0m \u001b[38;5;28mprint\u001b[39m(\u001b[43mobj\u001b[49m\u001b[38;5;241;43m.\u001b[39;49m\u001b[43mb\u001b[49m)\n",
      "\u001b[1;31mAttributeError\u001b[0m: 'child' object has no attribute 'b'"
     ]
    }
   ],
   "source": [
    "# Private members are represented by double underscore for example __a. If any member in parent class is declared as private then it can't be accessed by its child class.\n",
    "\n",
    "class parent(object):\n",
    "    \n",
    "    def __init__(self):\n",
    "        self.a=5\n",
    "        \n",
    "        self.__b=3\n",
    "        \n",
    "class child(parent):\n",
    "    \n",
    "    def __init__(self):\n",
    "        self.c=6\n",
    "        \n",
    "        parent.__init__(self)\n",
    "        \n",
    "        \n",
    "obj=child()\n",
    "print(obj.a)\n",
    "print(obj.c)\n",
    "print(obj.b)"
   ]
  },
  {
   "cell_type": "code",
   "execution_count": 17,
   "id": "8b16ec65",
   "metadata": {},
   "outputs": [
    {
     "name": "stdout",
     "output_type": "stream",
     "text": [
      "5\n",
      "6\n"
     ]
    },
    {
     "ename": "AttributeError",
     "evalue": "'child' object has no attribute 'b'",
     "output_type": "error",
     "traceback": [
      "\u001b[1;31m---------------------------------------------------------------------------\u001b[0m",
      "\u001b[1;31mAttributeError\u001b[0m                            Traceback (most recent call last)",
      "Cell \u001b[1;32mIn[17], line 23\u001b[0m\n\u001b[0;32m     21\u001b[0m \u001b[38;5;28mprint\u001b[39m(obj\u001b[38;5;241m.\u001b[39ma)\n\u001b[0;32m     22\u001b[0m \u001b[38;5;28mprint\u001b[39m(obj\u001b[38;5;241m.\u001b[39mc)\n\u001b[1;32m---> 23\u001b[0m \u001b[38;5;28mprint\u001b[39m(\u001b[43mobj\u001b[49m\u001b[38;5;241;43m.\u001b[39;49m\u001b[43mb\u001b[49m)\n",
      "\u001b[1;31mAttributeError\u001b[0m: 'child' object has no attribute 'b'"
     ]
    }
   ],
   "source": [
    "# Protected member -> Represented by single underscore for example _a. \n",
    "\n",
    "# Private members are represented by double underscore for example __a. If any member in parent class is declared as private then it can't be accessed by its child class.\n",
    "\n",
    "class parent(object):\n",
    "    \n",
    "    def __init__(self):\n",
    "        self.a=5\n",
    "        \n",
    "        self._b=3\n",
    "        \n",
    "class child(parent):\n",
    "    \n",
    "    def __init__(self):\n",
    "        self.c=6\n",
    "        \n",
    "        parent.__init__(self)\n",
    "        \n",
    "        \n",
    "obj=child()\n",
    "print(obj.a)\n",
    "print(obj.c)\n",
    "print(obj.b)"
   ]
  },
  {
   "cell_type": "code",
   "execution_count": 22,
   "id": "16fbb0dd",
   "metadata": {},
   "outputs": [
    {
     "name": "stdout",
     "output_type": "stream",
     "text": [
      "Class C\n"
     ]
    }
   ],
   "source": [
    "# Super() -> The super() method helps us in overriding methods in new style classes. Its syntax is as follows:\n",
    "# super(class_name, instance_)of_class).overridden_method_name()\n",
    "\n",
    "\n",
    "# without super()\n",
    "class A(object):\n",
    "    def func1(self):\n",
    "        print(\"Class A\")\n",
    "\n",
    "class B(A):\n",
    "    def func1(self):\n",
    "        print(\"Class B\")\n",
    "        \n",
    "class C(B):\n",
    "    def func1(self):\n",
    "        print(\"Class C\")\n",
    "        \n",
    "        \n",
    "obj=C()\n",
    "obj.func1()"
   ]
  },
  {
   "cell_type": "code",
   "execution_count": 25,
   "id": "41824139",
   "metadata": {},
   "outputs": [
    {
     "name": "stdout",
     "output_type": "stream",
     "text": [
      "Class C\n",
      "Class B\n",
      "Class A\n"
     ]
    }
   ],
   "source": [
    "# with super()\n",
    "\n",
    "class A(object):\n",
    "    def func1(self):\n",
    "        print(\"Class A\")\n",
    "\n",
    "class B(A):\n",
    "    def func1(self):\n",
    "        print(\"Class B\")\n",
    "        super(B,self).func1()\n",
    "        \n",
    "class C(B):\n",
    "    def func1(self):\n",
    "        print(\"Class C\")\n",
    "        super(C,self).func1()\n",
    "        \n",
    "obj=C()\n",
    "obj.func1()"
   ]
  },
  {
   "cell_type": "code",
   "execution_count": 29,
   "id": "a474d045",
   "metadata": {},
   "outputs": [
    {
     "name": "stdout",
     "output_type": "stream",
     "text": [
      "True\n",
      "True\n",
      "True\n",
      "False\n",
      "False\n",
      "False\n"
     ]
    }
   ],
   "source": [
    "# issubclass() -> It checks whether a specific class is the child class of another class or not. Its syntax is:\n",
    "# issubclass(childclass_name, parentclass_name)\n",
    "\n",
    "class A(object):\n",
    "    def func1(self):\n",
    "        print(\"Class A\")\n",
    "\n",
    "class B(A):\n",
    "    def func1(self):\n",
    "        print(\"Class B\")\n",
    "        \n",
    "class C(B):\n",
    "    def func1(self):\n",
    "        print(\"Class C\")\n",
    "        \n",
    "        \n",
    "print(issubclass(C,B))\n",
    "print(issubclass(B,A))\n",
    "print(issubclass(C,A))\n",
    "print(issubclass(B,C))\n",
    "print(issubclass(A,B))\n",
    "print(issubclass(A,C))"
   ]
  },
  {
   "cell_type": "code",
   "execution_count": 31,
   "id": "9da9bbc0",
   "metadata": {},
   "outputs": [
    {
     "name": "stdout",
     "output_type": "stream",
     "text": [
      "True\n",
      "False\n",
      "False\n"
     ]
    }
   ],
   "source": [
    "#isinstance() ->\n",
    "\n",
    "print(isinstance(1,int))\n",
    "print(isinstance(1,str))\n",
    "print(isinstance(1,list))\n"
   ]
  },
  {
   "cell_type": "code",
   "execution_count": 40,
   "id": "ccad2b2d",
   "metadata": {},
   "outputs": [
    {
     "name": "stdout",
     "output_type": "stream",
     "text": [
      "3\n",
      "8\n"
     ]
    },
    {
     "ename": "AttributeError",
     "evalue": "'increment' object has no attribute '__number'",
     "output_type": "error",
     "traceback": [
      "\u001b[1;31m---------------------------------------------------------------------------\u001b[0m",
      "\u001b[1;31mAttributeError\u001b[0m                            Traceback (most recent call last)",
      "Cell \u001b[1;32mIn[40], line 15\u001b[0m\n\u001b[0;32m     13\u001b[0m obj\u001b[38;5;241m.\u001b[39madd(\u001b[38;5;241m3\u001b[39m)\n\u001b[0;32m     14\u001b[0m obj\u001b[38;5;241m.\u001b[39madd(\u001b[38;5;241m5\u001b[39m)\n\u001b[1;32m---> 15\u001b[0m \u001b[38;5;28mprint\u001b[39m(\u001b[43mobj\u001b[49m\u001b[38;5;241;43m.\u001b[39;49m\u001b[43m__number\u001b[49m)\n",
      "\u001b[1;31mAttributeError\u001b[0m: 'increment' object has no attribute '__number'"
     ]
    }
   ],
   "source": [
    "# Nothing in Python is truly private. We can also access private members outside the definition of class but not easily, we have to use below syntax.\n",
    "# object._classname__membername\n",
    "\n",
    "class increment:\n",
    "    \n",
    "    __number=0\n",
    "    \n",
    "    def add(self,extra):\n",
    "        self.__number+=extra\n",
    "        print(self.__number)\n",
    "        \n",
    "obj=increment()\n",
    "obj.add(3)\n",
    "obj.add(5)\n",
    "print(obj.__number)"
   ]
  },
  {
   "cell_type": "code",
   "execution_count": 42,
   "id": "b7167f57",
   "metadata": {},
   "outputs": [
    {
     "name": "stdout",
     "output_type": "stream",
     "text": [
      "3\n",
      "8\n",
      "8\n"
     ]
    }
   ],
   "source": [
    "class increment:\n",
    "    \n",
    "    __number=0\n",
    "    \n",
    "    def add(self,extra):\n",
    "        self.__number+=extra\n",
    "        print(self.__number)\n",
    "        \n",
    "obj=increment()\n",
    "obj.add(3)\n",
    "obj.add(5)\n",
    "print(obj._increment__number)  # to access private member outside the class"
   ]
  },
  {
   "cell_type": "code",
   "execution_count": 46,
   "id": "2cc31876",
   "metadata": {},
   "outputs": [
    {
     "name": "stdout",
     "output_type": "stream",
     "text": [
      "From str method A = 5 and B = 6\n",
      "[From repr method A = 5 and B = 6]\n"
     ]
    }
   ],
   "source": [
    "# Printing objects -> Printing objects gives us information about the objects we are working with.\n",
    "\n",
    "# In python we have 2 objects  -> __repr__ and __str__\n",
    "\n",
    "class demo:\n",
    "    \n",
    "    def __init__(self,A,B):\n",
    "        self.A=A\n",
    "        self.B=B\n",
    "        \n",
    "    def __repr__(self):\n",
    "        return \"From repr method A = %s and B = %s\" %(self.A,self.B)\n",
    "    \n",
    "    def __str__(self):\n",
    "        return \"From str method A = %s and \"\\\n",
    "        \"B = %s\"%(self.A,self.B)\n",
    "    \n",
    "obj=demo(5,6)\n",
    "print(obj)\n",
    "print([obj])"
   ]
  },
  {
   "cell_type": "code",
   "execution_count": 49,
   "id": "f0f1b548",
   "metadata": {},
   "outputs": [
    {
     "name": "stdout",
     "output_type": "stream",
     "text": [
      "From repr method A = 5 and B = 6\n",
      "[From repr method A = 5 and B = 6]\n"
     ]
    }
   ],
   "source": [
    "# Printing objects -> Printing objects gives us information about the objects we are working with.\n",
    "\n",
    "# In python we have 2 objects  -> __repr__ and __str__\n",
    "\n",
    "class demo:\n",
    "    \n",
    "    def __init__(self,A,B):\n",
    "        self.A=A\n",
    "        self.B=B\n",
    "        \n",
    "    def __repr__(self):\n",
    "        return \"From repr method A = %s and B = %s\" %(self.A,self.B)\n",
    "    \n",
    "    #def __str__(self):\n",
    "       # return \"From str method A = %s and \"\\\n",
    "        #\"B = %s\"%(self.A,self.B)\n",
    "    \n",
    "obj=demo(5,6)\n",
    "print(obj) # in absence of str method it will call repr method\n",
    "print([obj])"
   ]
  },
  {
   "cell_type": "code",
   "execution_count": 50,
   "id": "0cf17f5a",
   "metadata": {},
   "outputs": [
    {
     "name": "stdout",
     "output_type": "stream",
     "text": [
      "From str method A = 5 and B = 6\n",
      "[<__main__.demo object at 0x000001B725DE0E50>]\n"
     ]
    }
   ],
   "source": [
    "# Printing objects -> Printing objects gives us information about the objects we are working with.\n",
    "\n",
    "# In python we have 2 objects  -> __repr__ and __str__\n",
    "\n",
    "class demo:\n",
    "    \n",
    "    def __init__(self,A,B):\n",
    "        self.A=A\n",
    "        self.B=B\n",
    "        \n",
    "    #def __repr__(self):\n",
    "     #   return \"From repr method A = %s and B = %s\" %(self.A,self.B)\n",
    "    \n",
    "    def __str__(self):\n",
    "        return \"From str method A = %s and \"\\\n",
    "        \"B = %s\"%(self.A,self.B)\n",
    "    \n",
    "obj=demo(5,6)\n",
    "print(obj)\n",
    "print([obj]) # in absence of repr method it will call default method"
   ]
  },
  {
   "cell_type": "code",
   "execution_count": 52,
   "id": "5dfd12e5",
   "metadata": {},
   "outputs": [
    {
     "name": "stdout",
     "output_type": "stream",
     "text": [
      "<__main__.demo object at 0x000001B724C69B50>\n",
      "[<__main__.demo object at 0x000001B724C69B50>]\n"
     ]
    }
   ],
   "source": [
    "# Printing objects -> Printing objects gives us information about the objects we are working with.\n",
    "\n",
    "# In python we have 2 objects  -> __repr__ and __str__\n",
    "\n",
    "class demo:\n",
    "    \n",
    "    def __init__(self,A,B):\n",
    "        self.A=A\n",
    "        self.B=B\n",
    "        \n",
    "    #def __repr__(self):\n",
    "     #   return \"From repr method A = %s and B = %s\" %(self.A,self.B)\n",
    "    \n",
    "    #def __str__(self):\n",
    "       # return \"From str method A = %s and \"\\\n",
    "       # \"B = %s\"%(self.A,self.B)\n",
    "    \n",
    "obj=demo(5,6)\n",
    "print(obj) # in absence of repr and str both methods it will call default method\n",
    "print([obj]) # in absence of repr method it will call default method"
   ]
  },
  {
   "cell_type": "code",
   "execution_count": null,
   "id": "07a50ea8",
   "metadata": {},
   "outputs": [],
   "source": []
  }
 ],
 "metadata": {
  "kernelspec": {
   "display_name": "Python 3 (ipykernel)",
   "language": "python",
   "name": "python3"
  },
  "language_info": {
   "codemirror_mode": {
    "name": "ipython",
    "version": 3
   },
   "file_extension": ".py",
   "mimetype": "text/x-python",
   "name": "python",
   "nbconvert_exporter": "python",
   "pygments_lexer": "ipython3",
   "version": "3.11.1"
  }
 },
 "nbformat": 4,
 "nbformat_minor": 5
}
