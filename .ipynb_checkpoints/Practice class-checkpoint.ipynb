{
 "cells": [
  {
   "cell_type": "code",
   "execution_count": 2,
   "id": "4d7c5661",
   "metadata": {},
   "outputs": [
    {
     "ename": "TypeError",
     "evalue": "Mobile.__init__() missing 2 required positional arguments: 'price' and 'brand'",
     "output_type": "error",
     "traceback": [
      "\u001b[1;31m---------------------------------------------------------------------------\u001b[0m",
      "\u001b[1;31mTypeError\u001b[0m                                 Traceback (most recent call last)",
      "Cell \u001b[1;32mIn[2], line 6\u001b[0m\n\u001b[0;32m      4\u001b[0m         \u001b[38;5;28mprint\u001b[39m(\u001b[38;5;124m\"\u001b[39m\u001b[38;5;124mBrand:\u001b[39m\u001b[38;5;124m\"\u001b[39m,brand)\n\u001b[0;32m      5\u001b[0m \u001b[38;5;66;03m#Uncomment each line below. Try it out and observe the output.\u001b[39;00m\n\u001b[1;32m----> 6\u001b[0m mob1\u001b[38;5;241m=\u001b[39m\u001b[43mMobile\u001b[49m\u001b[43m(\u001b[49m\u001b[43m)\u001b[49m\n\u001b[0;32m      7\u001b[0m \u001b[38;5;66;03m#mob1=Mobile(10000,'Samsung','Android')\u001b[39;00m\n\u001b[0;32m      8\u001b[0m \u001b[38;5;66;03m#mob1=Mobile(10000,'Samsung')\u001b[39;00m\n",
      "\u001b[1;31mTypeError\u001b[0m: Mobile.__init__() missing 2 required positional arguments: 'price' and 'brand'"
     ]
    }
   ],
   "source": [
    "class Mobile:\n",
    "    def __init__(self,price,brand):\n",
    "        print(\"Price:\",price)\n",
    "        print(\"Brand:\",brand)\n",
    "#Uncomment each line below. Try it out and observe the output.\n",
    "mob1=Mobile()\n",
    "#mob1=Mobile(10000,'Samsung','Android')\n",
    "#mob1=Mobile(10000,'Samsung')\n"
   ]
  },
  {
   "cell_type": "code",
   "execution_count": 3,
   "id": "1d51cb8e",
   "metadata": {},
   "outputs": [
    {
     "ename": "TypeError",
     "evalue": "Mobile.__init__() takes 3 positional arguments but 4 were given",
     "output_type": "error",
     "traceback": [
      "\u001b[1;31m---------------------------------------------------------------------------\u001b[0m",
      "\u001b[1;31mTypeError\u001b[0m                                 Traceback (most recent call last)",
      "Cell \u001b[1;32mIn[3], line 7\u001b[0m\n\u001b[0;32m      4\u001b[0m         \u001b[38;5;28mprint\u001b[39m(\u001b[38;5;124m\"\u001b[39m\u001b[38;5;124mBrand:\u001b[39m\u001b[38;5;124m\"\u001b[39m,brand)\n\u001b[0;32m      5\u001b[0m \u001b[38;5;66;03m#Uncomment each line below. Try it out and observe the output.\u001b[39;00m\n\u001b[0;32m      6\u001b[0m \u001b[38;5;66;03m#mob1=Mobile()\u001b[39;00m\n\u001b[1;32m----> 7\u001b[0m mob1\u001b[38;5;241m=\u001b[39m\u001b[43mMobile\u001b[49m\u001b[43m(\u001b[49m\u001b[38;5;241;43m10000\u001b[39;49m\u001b[43m,\u001b[49m\u001b[38;5;124;43m'\u001b[39;49m\u001b[38;5;124;43mSamsung\u001b[39;49m\u001b[38;5;124;43m'\u001b[39;49m\u001b[43m,\u001b[49m\u001b[38;5;124;43m'\u001b[39;49m\u001b[38;5;124;43mAndroid\u001b[39;49m\u001b[38;5;124;43m'\u001b[39;49m\u001b[43m)\u001b[49m\n\u001b[0;32m      8\u001b[0m \u001b[38;5;66;03m#mob1=Mobile(10000,'Samsung')\u001b[39;00m\n",
      "\u001b[1;31mTypeError\u001b[0m: Mobile.__init__() takes 3 positional arguments but 4 were given"
     ]
    }
   ],
   "source": [
    "class Mobile:\n",
    "    def __init__(self,price,brand):\n",
    "        print(\"Price:\",price)\n",
    "        print(\"Brand:\",brand)\n",
    "#Uncomment each line below. Try it out and observe the output.\n",
    "#mob1=Mobile()\n",
    "mob1=Mobile(10000,'Samsung','Android')\n",
    "#mob1=Mobile(10000,'Samsung')\n"
   ]
  },
  {
   "cell_type": "code",
   "execution_count": 4,
   "id": "a36840a1",
   "metadata": {},
   "outputs": [
    {
     "name": "stdout",
     "output_type": "stream",
     "text": [
      "Price: 10000\n",
      "Brand: Samsung\n"
     ]
    }
   ],
   "source": [
    "class Mobile:\n",
    "    def __init__(self,price,brand):\n",
    "        print(\"Price:\",price)\n",
    "        print(\"Brand:\",brand)\n",
    "#Uncomment each line below. Try it out and observe the output.\n",
    "#mob1=Mobile()\n",
    "#mob1=Mobile(10000,'Samsung','Android')\n",
    "mob1=Mobile(10000,'Samsung')\n"
   ]
  },
  {
   "cell_type": "code",
   "execution_count": 5,
   "id": "fea6ef08",
   "metadata": {},
   "outputs": [
    {
     "name": "stdout",
     "output_type": "stream",
     "text": [
      "Deleting the object\n"
     ]
    }
   ],
   "source": [
    "class Product:\n",
    "    def __init__(self,price,brand):\n",
    "        self.price=price\n",
    "        self.brand=brand\n",
    "    def __del__(self):\n",
    "        print('Deleting the object')\n",
    "p1=Product(10000,'Apple')\n",
    "p2=Product(7000,'Samsung')\n",
    "del p1\n"
   ]
  },
  {
   "cell_type": "code",
   "execution_count": 6,
   "id": "609be9ec",
   "metadata": {},
   "outputs": [
    {
     "name": "stdout",
     "output_type": "stream",
     "text": [
      "Mobile-1\n",
      "Inside constructor\n",
      "Purchasing a mobile\n",
      "This mobile has brand Apple and price 20000\n",
      "Mobile-2\n",
      "Inside constructor\n",
      "Purchasing a mobile\n",
      "This mobile has brand Samsung and price 3000\n"
     ]
    }
   ],
   "source": [
    "class Mobile:\n",
    "    def __init__(self, brand, price):\n",
    "        print(\"Inside constructor\")\n",
    "        self.brand = brand\n",
    "        self.price = price\n",
    "    def purchase(self):\n",
    "        print(\"Purchasing a mobile\")\n",
    "        print(\"This mobile has brand\", self.brand, \"and price\", self.price)\n",
    "print(\"Mobile-1\")\n",
    "mob1=Mobile(\"Apple\", 20000)\n",
    "mob1.purchase()\n",
    "print(\"Mobile-2\")\n",
    "mob2=Mobile(\"Samsung\",3000)\n",
    "mob2.purchase()\n"
   ]
  },
  {
   "cell_type": "code",
   "execution_count": 16,
   "id": "98c87ad0",
   "metadata": {},
   "outputs": [
    {
     "name": "stdout",
     "output_type": "stream",
     "text": [
      "Vehicle Id:  V004123\n",
      "Vehicle Type:  Two Wheeler\n",
      "Vehicle Cost:  50000\n",
      "Premium Amount:  1000.0\n",
      "Vehicle Id:  V001242\n",
      "Vehicle Type:  Four Wheeler\n",
      "Vehicle Cost:  800000\n",
      "Premium Amount:  48000.0\n",
      "Invalid Vehicle Type.\n",
      "Vehicle Id:  V001352\n",
      "Vehicle Type:  One Wheeler\n",
      "Vehicle Cost:  2000\n",
      "Premium Amount:  0\n"
     ]
    }
   ],
   "source": [
    "\"\"\"WeCare insurance company wants to calculate premium of vehicles.\n",
    "Vehicles are of two types – \"Two Wheeler\" and \"Four Wheeler\". Each vehicle is identified by vehicle id, type, cost and \n",
    "premium amount.\n",
    "Premium amount is 2% of the vehicle cost for two wheeler and 6% of the vehicle cost for four wheeler. \n",
    "Calculate the premium amount and display the vehicle details.\n",
    "\n",
    "Write a Python program to implement the class chosen with its attributes and methods.\n",
    "\n",
    "Note:\n",
    "\n",
    "1. Display appropriate error message, if the vehicle type is invalid\n",
    "\n",
    "2. Perform case sensitive string comparison\"\"\"\n",
    "\n",
    "class Premium:\n",
    "    \n",
    "    def __init__(self,vehicleId,vType,cost):\n",
    "        self.vehicleId=vehicleId\n",
    "        self.vType=vType\n",
    "        self.cost=cost\n",
    "        \n",
    "    def calPremium(self):\n",
    "        if self.vType == \"Two Wheeler\":\n",
    "            self.premium_amount=0.02*self.cost\n",
    "        elif self.vType == \"Four Wheeler\":\n",
    "            self.premium_amount=0.06*self.cost\n",
    "        else:\n",
    "            self.premium_amount=0\n",
    "            print(\"Invalid Vehicle Type.\")\n",
    "    \n",
    "    def display(self):\n",
    "        print(\"Vehicle Id: \",self.vehicleId)\n",
    "        print(\"Vehicle Type: \",self.vType)\n",
    "        print(\"Vehicle Cost: \",self.cost)\n",
    "        print(\"Premium Amount: \",self.premium_amount)\n",
    "        \n",
    "\n",
    "obj1=Premium(\"V004123\",\"Two Wheeler\",50000)\n",
    "obj1.calPremium()\n",
    "obj1.display()\n",
    "\n",
    "obj2=Premium(\"V001242\",\"Four Wheeler\",800000)\n",
    "obj2.calPremium()\n",
    "obj2.display()\n",
    "\n",
    "obj3=Premium(\"V001352\",\"One Wheeler\",2000)\n",
    "obj3.calPremium()\n",
    "obj3.display()"
   ]
  },
  {
   "cell_type": "code",
   "execution_count": 18,
   "id": "7044eba6",
   "metadata": {},
   "outputs": [
    {
     "name": "stdout",
     "output_type": "stream",
     "text": [
      "Sheetal pays bill amount of Rs. 4750.0\n"
     ]
    }
   ],
   "source": [
    "\"\"\"Consider the below scenario of a retail store.\n",
    "Implement the Customer class based on the identified class structure and details given below:\n",
    "\n",
    "    1. Consider all instance variables and methods to be public\n",
    "    2. Assume that bill_amount is initialized with total bill amount of the customer\n",
    "    3. Customer is eligible for 5% discount on the bill amount\n",
    "    4. purchases(): Compute discounted bill amount and pay bill\n",
    "    5. pays_bill(amount): Display, <customer_name> pays bill amount of Rs. <amount>\"\"\"\n",
    "\n",
    "\n",
    "class Customer:\n",
    "    \n",
    "    def __init__(self,customer_name,total_bill):\n",
    "        self.customer_name=customer_name\n",
    "        self.total_bill=total_bill\n",
    "        \n",
    "    def purchase(self):\n",
    "        self.bill_amount=self.total_bill-self.total_bill*0.05\n",
    "    \n",
    "    def pays_bill(self):\n",
    "        print(f\"{self.customer_name} pays bill amount of Rs. {self.bill_amount}\")\n",
    "\n",
    "obj=Customer(\"Sheetal\",5000)\n",
    "obj.purchase()\n",
    "obj.pays_bill()"
   ]
  },
  {
   "cell_type": "code",
   "execution_count": 19,
   "id": "59372f9d",
   "metadata": {},
   "outputs": [
    {
     "name": "stdout",
     "output_type": "stream",
     "text": [
      "120\n"
     ]
    }
   ],
   "source": [
    "class Customer:\n",
    "    def __init__(self, id, name, age, wallet_balance):\n",
    "        self.id = id\n",
    "        self.name = name\n",
    "        self.age = age\n",
    "        self.__wallet_balance = wallet_balance\n",
    "    def set_wallet_balance(self, amount):\n",
    "        if amount < 1000 and amount>  0:\n",
    "            self.__wallet_balance = amount\n",
    "    def get_wallet_balance(self):\n",
    "        return self.__wallet_balance\n",
    "c1=Customer(100, \"Gopal\", 24, 1000)\n",
    "c1.set_wallet_balance(120)\n",
    "print(c1.get_wallet_balance())\n"
   ]
  },
  {
   "cell_type": "code",
   "execution_count": 23,
   "id": "aa77e447",
   "metadata": {},
   "outputs": [
    {
     "name": "stdout",
     "output_type": "stream",
     "text": [
      "150mtr running\n",
      "Maria\n"
     ]
    }
   ],
   "source": [
    "class Athlete:\n",
    "    def __init__(self,name,gender):\n",
    "        self.__name=name\n",
    "        self.__gender=gender\n",
    "    def running(self):\n",
    "        if(self.__gender==\"girl\"):\n",
    "            print(\"150mtr running\")\n",
    "        else:\n",
    "            print(\"200mtr running\")\n",
    "            \n",
    "obj=Athlete(\"Maria\",\"girl\")\n",
    "obj.running()\n",
    "print(obj._Athlete__name) # against rules\n"
   ]
  },
  {
   "cell_type": "code",
   "execution_count": 6,
   "id": "3983eb4a",
   "metadata": {},
   "outputs": [
    {
     "name": "stdout",
     "output_type": "stream",
     "text": [
      "50\n",
      "Total is  12500.0\n",
      "Total is  20000.0\n",
      "20\n"
     ]
    }
   ],
   "source": [
    "class Mobile:\n",
    "    __discount = 50\n",
    "    def __init__(self, price, brand):\n",
    "        self.price = price\n",
    "        self.brand = brand\n",
    "    def purchase(self):\n",
    "        total = self.price - self.price * Mobile.__discount / 100\n",
    "        print (\"Total is \",total)\n",
    "    @staticmethod\n",
    "    def get_discount():\n",
    "        return Mobile.__discount\n",
    "    @staticmethod\n",
    "    def set_discount(discount):\n",
    "        Mobile.__discount = discount\n",
    "        \n",
    "print (Mobile.get_discount())\n",
    "obj=Mobile(25000,'Nokia')\n",
    "obj.purchase()\n",
    "obj.set_discount(20)\n",
    "obj.purchase()\n",
    "print(Mobile.get_discount())\n",
    "\n"
   ]
  },
  {
   "cell_type": "code",
   "execution_count": 7,
   "id": "05e30b52",
   "metadata": {},
   "outputs": [
    {
     "name": "stdout",
     "output_type": "stream",
     "text": [
      "Apple mobile with price 20000 is available after discount at 20000.0\n",
      "Apple mobile with price 30000 is available after discount at 15000.0\n",
      "Samsung mobile with price 5000 is available after discount at 5000.0\n"
     ]
    }
   ],
   "source": [
    "class Mobile:\n",
    "    __discount = 50\n",
    "    def __init__(self, price, brand):\n",
    "        self.price = price\n",
    "        self.brand = brand\n",
    "    def purchase(self):\n",
    "        total = self.price - self.price * Mobile.__discount / 100\n",
    "        print (self.brand, \"mobile with price\", self.price, \"is available after discount at\", total)\n",
    "    @staticmethod\n",
    "    def enable_discount():\n",
    "        Mobile.set_discount(50)\n",
    "    @staticmethod\n",
    "    def disable_discount():\n",
    "        Mobile.set_discount(0)\n",
    "    @staticmethod\n",
    "    def get_discount():\n",
    "        return Mobile.__discount\n",
    "    @staticmethod\n",
    "    def set_discount(discount):\n",
    "        Mobile.__discount = discount\n",
    "mob1=Mobile(20000, \"Apple\")\n",
    "mob2=Mobile(30000, \"Apple\")\n",
    "mob3=Mobile(5000, \"Samsung\")\n",
    "Mobile.disable_discount()\n",
    "mob1.purchase()\n",
    "Mobile.enable_discount()\n",
    "mob2.purchase()\n",
    "Mobile.disable_discount()\n",
    "mob3.purchase()\n"
   ]
  },
  {
   "cell_type": "code",
   "execution_count": 25,
   "id": "ae666374",
   "metadata": {},
   "outputs": [
    {
     "data": {
      "text/plain": [
       "-1"
      ]
     },
     "execution_count": 25,
     "metadata": {},
     "output_type": "execute_result"
    }
   ],
   "source": [
    "class Classroom():\n",
    "    __classroom_list=['A','B','C','D','E']\n",
    "    def __init__(self,class_room):\n",
    "        self.class_room=class_room\n",
    "        \n",
    "    @staticmethod\n",
    "    def search_classroom(class_room):\n",
    "        if class_room in Classroom.__classroom_list:\n",
    "            return \"Found\"\n",
    "        else:\n",
    "            return -1\n",
    "\n",
    "\n",
    "Classroom.search_classroom('b')"
   ]
  },
  {
   "cell_type": "code",
   "execution_count": 27,
   "id": "372251dc",
   "metadata": {},
   "outputs": [
    {
     "name": "stdout",
     "output_type": "stream",
     "text": [
      "Jack 24 1234\n",
      "123 5th Lane 56001\n",
      "Jack 24 1234\n",
      "567 6th Lane 82006\n"
     ]
    }
   ],
   "source": [
    "class Customer:\n",
    "    def __init__(self, name, age, phone_no, address):\n",
    "        self.name = name\n",
    "        self.age = age\n",
    "        self.phone_no = phone_no\n",
    "        self.address = address\n",
    "    def view_details(self):\n",
    "        print (self.name, self.age, self.phone_no)\n",
    "        print (self.address.door_no, self.address.street, self.address.pincode)\n",
    "    def update_details(self, add):\n",
    "        self.address = add\n",
    "class Address:\n",
    "    def __init__(self, door_no, street, pincode):\n",
    "        self.door_no = door_no\n",
    "        self.street = street\n",
    "        self.pincode = pincode\n",
    "    def update_address(self):\n",
    "        pass\n",
    "add1=Address(123, \"5th Lane\", 56001)\n",
    "add2=Address(567, \"6th Lane\", 82006)\n",
    "cus1=Customer(\"Jack\", 24, 1234, add1)\n",
    "cus1.view_details()\n",
    "cus1.update_details(add2)\n",
    "cus1.view_details()\n"
   ]
  },
  {
   "cell_type": "code",
   "execution_count": 28,
   "id": "5f8d58f6",
   "metadata": {},
   "outputs": [
    {
     "name": "stdout",
     "output_type": "stream",
     "text": [
      "Jack 24 1234\n"
     ]
    },
    {
     "ename": "AttributeError",
     "evalue": "'Address' object has no attribute '_Customer__door_no'",
     "output_type": "error",
     "traceback": [
      "\u001b[1;31m---------------------------------------------------------------------------\u001b[0m",
      "\u001b[1;31mAttributeError\u001b[0m                            Traceback (most recent call last)",
      "Cell \u001b[1;32mIn[28], line 19\u001b[0m\n\u001b[0;32m     17\u001b[0m add1\u001b[38;5;241m=\u001b[39mAddress(\u001b[38;5;241m123\u001b[39m, \u001b[38;5;124m\"\u001b[39m\u001b[38;5;124m5th Lane\u001b[39m\u001b[38;5;124m\"\u001b[39m, \u001b[38;5;241m56001\u001b[39m)\n\u001b[0;32m     18\u001b[0m cus1\u001b[38;5;241m=\u001b[39mCustomer(\u001b[38;5;124m\"\u001b[39m\u001b[38;5;124mJack\u001b[39m\u001b[38;5;124m\"\u001b[39m, \u001b[38;5;241m24\u001b[39m, \u001b[38;5;241m1234\u001b[39m, add1)\n\u001b[1;32m---> 19\u001b[0m \u001b[43mcus1\u001b[49m\u001b[38;5;241;43m.\u001b[39;49m\u001b[43mview_details\u001b[49m\u001b[43m(\u001b[49m\u001b[43m)\u001b[49m\n",
      "Cell \u001b[1;32mIn[28], line 9\u001b[0m, in \u001b[0;36mCustomer.view_details\u001b[1;34m(self)\u001b[0m\n\u001b[0;32m      7\u001b[0m \u001b[38;5;28;01mdef\u001b[39;00m \u001b[38;5;21mview_details\u001b[39m(\u001b[38;5;28mself\u001b[39m):\n\u001b[0;32m      8\u001b[0m     \u001b[38;5;28mprint\u001b[39m (\u001b[38;5;28mself\u001b[39m\u001b[38;5;241m.\u001b[39mname, \u001b[38;5;28mself\u001b[39m\u001b[38;5;241m.\u001b[39mage, \u001b[38;5;28mself\u001b[39m\u001b[38;5;241m.\u001b[39mphone_no)\n\u001b[1;32m----> 9\u001b[0m     \u001b[38;5;28mprint\u001b[39m (\u001b[38;5;28;43mself\u001b[39;49m\u001b[38;5;241;43m.\u001b[39;49m\u001b[43maddress\u001b[49m\u001b[38;5;241;43m.\u001b[39;49m\u001b[43m__door_no\u001b[49m, \u001b[38;5;28mself\u001b[39m\u001b[38;5;241m.\u001b[39maddress\u001b[38;5;241m.\u001b[39m__street, \u001b[38;5;28mself\u001b[39m\u001b[38;5;241m.\u001b[39maddress\u001b[38;5;241m.\u001b[39m__pincode)\n",
      "\u001b[1;31mAttributeError\u001b[0m: 'Address' object has no attribute '_Customer__door_no'"
     ]
    }
   ],
   "source": [
    "class Customer:\n",
    "    def __init__(self, name, age, phone_no, address):\n",
    "        self.name = name\n",
    "        self.age = age\n",
    "        self.phone_no = phone_no\n",
    "        self.address = address\n",
    "    def view_details(self):\n",
    "        print (self.name, self.age, self.phone_no)\n",
    "        print (self.address.__door_no, self.address.__street, self.address.__pincode)\n",
    "class Address:\n",
    "    def __init__(self, door_no, street, pincode):\n",
    "        self.__door_no = door_no\n",
    "        self.__street = street\n",
    "        self.__pincode = pincode\n",
    "    def update_address(self):\n",
    "        pass\n",
    "add1=Address(123, \"5th Lane\", 56001)\n",
    "cus1=Customer(\"Jack\", 24, 1234, add1)\n",
    "cus1.view_details()\n"
   ]
  },
  {
   "cell_type": "code",
   "execution_count": 29,
   "id": "6988d541",
   "metadata": {},
   "outputs": [
    {
     "name": "stdout",
     "output_type": "stream",
     "text": [
      "Jack 24 1234\n",
      "123 5th Lane 56001\n"
     ]
    }
   ],
   "source": [
    "class Customer:\n",
    "    def __init__(self, name, age, phone_no, address):\n",
    "        self.name = name\n",
    "        self.age = age\n",
    "        self.phone_no = phone_no\n",
    "        self.address = address\n",
    "    def view_details(self):\n",
    "        print (self.name, self.age, self.phone_no)\n",
    "        print (self.address.get_door_no(), self.address.get_street(), self.address.get_pincode())\n",
    "class Address:\n",
    "    def __init__(self, door_no, street, pincode):\n",
    "        self.__door_no = door_no\n",
    "        self.__street = street\n",
    "        self.__pincode = pincode\n",
    "    def get_door_no(self):\n",
    "        return self.__door_no\n",
    "    def get_street(self):\n",
    "        return self.__street\n",
    "    def get_pincode(self):\n",
    "        return self.__pincode\n",
    "    def set_door_no(self, value):\n",
    "        self.__door_no = value\n",
    "    def set_street(self, value):\n",
    "        self.__street = value\n",
    "    def set_pincode(self, value):\n",
    "        self.__pincode = value\n",
    "    def update_address(self):\n",
    "        pass\n",
    "add1=Address(123, \"5th Lane\", 56001)\n",
    "cus1=Customer(\"Jack\", 24, 1234, add1)\n",
    "cus1.view_details()\n"
   ]
  },
  {
   "cell_type": "code",
   "execution_count": 30,
   "id": "5c954a89",
   "metadata": {},
   "outputs": [
    {
     "name": "stdout",
     "output_type": "stream",
     "text": [
      "Paying by card\n"
     ]
    }
   ],
   "source": [
    "class Customer:\n",
    "    def __init__(self, name, age, phone_no):\n",
    "        self.name = name\n",
    "        self.age = age\n",
    "        self.phone_no = phone_no\n",
    "    def purchase(self, payment):\n",
    "        if payment.type == \"card\":\n",
    "            print (\"Paying by card\")\n",
    "        elif payment.type == \"e-wallet\":\n",
    "            print (\"Paying by wallet\")\n",
    "        else:\n",
    "            print (\"Paying by cash\")\n",
    "class Payment:\n",
    "    def __init__(self, type):\n",
    "        self.type = type\n",
    "payment1=Payment(\"card\")\n",
    "c=Customer(\"Jack\",23,1234)\n",
    "c.purchase(payment1)\n"
   ]
  },
  {
   "cell_type": "code",
   "execution_count": 31,
   "id": "f79df027",
   "metadata": {},
   "outputs": [
    {
     "name": "stdout",
     "output_type": "stream",
     "text": [
      "500\n"
     ]
    }
   ],
   "source": [
    "#Object creation\n",
    "class Customer:\n",
    "    def __init__(self, name,cust_type,bill):\n",
    "        self.name = name\n",
    "        self.bill = bill\n",
    "        self.cust_type=cust_type\n",
    "    def calulate_bill(self):\n",
    "        tax1=Tax(self.cust_type)\n",
    "        final_bill=self.bill*tax1.tax_details(self.cust_type)\n",
    "        return final_bill\n",
    "class Tax:\n",
    "    def __init__(self,cust_type):\n",
    "        self.cust_type=cust_type\n",
    "    def tax_details(self,cust_type):\n",
    "        if(cust_type==\"Student\"):\n",
    "            return 5\n",
    "        else:\n",
    "            return 10\n",
    "cust1=Customer(\"Maddy\",\"Student\",100)\n",
    "print(cust1.calulate_bill())\n"
   ]
  },
  {
   "cell_type": "code",
   "execution_count": 32,
   "id": "06097667",
   "metadata": {},
   "outputs": [
    {
     "name": "stdout",
     "output_type": "stream",
     "text": [
      "Calling  111000\n"
     ]
    }
   ],
   "source": [
    "#Usage of static attribute\n",
    "class CustomerCare:\n",
    "    helpline=111000\n",
    "class Customer:\n",
    "    def call_support(self):\n",
    "        print(\"Calling \",CustomerCare.helpline)\n",
    "Customer().call_support()\n"
   ]
  },
  {
   "cell_type": "code",
   "execution_count": 33,
   "id": "fe370f83",
   "metadata": {},
   "outputs": [
    {
     "name": "stdout",
     "output_type": "stream",
     "text": [
      "Calling  111000\n"
     ]
    }
   ],
   "source": [
    "#Usage of static method\n",
    "class CustomerCare:\n",
    "    __helpline=111000\n",
    "    @staticmethod\n",
    "    def get_helpline():\n",
    "        return CustomerCare.__helpline\n",
    "class Customer:\n",
    "    def call_support(self):\n",
    "        print(\"Calling \",CustomerCare.get_helpline())\n",
    "Customer().call_support()\n"
   ]
  },
  {
   "cell_type": "code",
   "execution_count": 63,
   "id": "68bf040d",
   "metadata": {},
   "outputs": [
    {
     "ename": "TypeError",
     "evalue": "Freight.forward_cargo() takes 0 positional arguments but 2 were given",
     "output_type": "error",
     "traceback": [
      "\u001b[1;31m---------------------------------------------------------------------------\u001b[0m",
      "\u001b[1;31mTypeError\u001b[0m                                 Traceback (most recent call last)",
      "Cell \u001b[1;32mIn[63], line 72\u001b[0m\n\u001b[0;32m     68\u001b[0m freight\u001b[38;5;241m=\u001b[39mFreight(\u001b[38;5;124m'\u001b[39m\u001b[38;5;124mAb123\u001b[39m\u001b[38;5;124m'\u001b[39m,\u001b[38;5;124m'\u001b[39m\u001b[38;5;124mJenny\u001b[39m\u001b[38;5;124m'\u001b[39m,\u001b[38;5;241m35\u001b[39m,\u001b[38;5;241m600\u001b[39m,customer)\n\u001b[0;32m     69\u001b[0m \u001b[38;5;66;03m#print(customer.validate_customer_id())\u001b[39;00m\n\u001b[0;32m     70\u001b[0m \u001b[38;5;66;03m#print(freight.validate_weight())\u001b[39;00m\n\u001b[0;32m     71\u001b[0m \u001b[38;5;66;03m#print(freight.validate_distance())\u001b[39;00m\n\u001b[1;32m---> 72\u001b[0m \u001b[43mfreight\u001b[49m\u001b[38;5;241;43m.\u001b[39;49m\u001b[43mforward_cargo\u001b[49m\u001b[43m(\u001b[49m\u001b[38;5;241;43m123\u001b[39;49m\u001b[43m)\u001b[49m\n",
      "\u001b[1;31mTypeError\u001b[0m: Freight.forward_cargo() takes 0 positional arguments but 2 were given"
     ]
    }
   ],
   "source": [
    "class Customer:\n",
    "    def __init__(self,customer_id,customer_name,address):\n",
    "        self.customer_id=customer_id\n",
    "        self.customer_name=customer_name\n",
    "        self.address=address\n",
    "        \n",
    "    def validate_customer_id(self):\n",
    "        if self.customer_id>=100000 and self.customer_id<200000:\n",
    "            return True\n",
    "        else:\n",
    "            return False\n",
    "    \n",
    "    def get_customer_id(self):\n",
    "        return customer_id\n",
    "    \n",
    "    def get_customer_name(self):\n",
    "        return customer_name\n",
    "    \n",
    "    def get_address(self):\n",
    "        return address\n",
    "    \n",
    "\n",
    "\n",
    "class Freight:\n",
    "    counter=198\n",
    "    def __init__(self,recipient_customer,from_customer,weight,distance,cust):\n",
    "        self.recipient_customer=recipient_customer\n",
    "        self.from_customer=from_customer\n",
    "        self.weight=weight\n",
    "        self.distance=distance\n",
    "        self.cust=cust\n",
    "        \n",
    "    def validate_weight(self):\n",
    "        if self.weight%5==0:\n",
    "            return True\n",
    "        else:\n",
    "            return False\n",
    "        \n",
    "    def validate_distance(self):\n",
    "        if self.distance>=500 and self.distance<=5000:\n",
    "            return True\n",
    "        else:\n",
    "            return False\n",
    "        \n",
    "    def forward_cargo():\n",
    "        Valid_from_cust_id=self.cust.validate_customer_id()\n",
    "        \n",
    "    def get_freight_charge(self):\n",
    "        return freight_charge\n",
    "    \n",
    "    def get_freight_id(self):\n",
    "        return freight_id\n",
    "    \n",
    "    def get_recipient_customer(self):\n",
    "        return recipient_customer\n",
    "    \n",
    "    def get_from_customer(self):\n",
    "        return from_customer\n",
    "    \n",
    "    def get_weight(self):\n",
    "        return weight\n",
    "    \n",
    "    def get_distance(self):\n",
    "        return distance\n",
    "        \n",
    "        \n",
    "customer=Customer(101233,'Riya','ABC Road Noida')\n",
    "freight=Freight('Ab123','Jenny',35,600,customer)\n",
    "#print(customer.validate_customer_id())\n",
    "#print(freight.validate_weight())\n",
    "#print(freight.validate_distance())\n",
    "freight.forward_cargo()\n",
    "\n",
    "\n",
    "        "
   ]
  },
  {
   "cell_type": "code",
   "execution_count": 64,
   "id": "18384d08",
   "metadata": {},
   "outputs": [
    {
     "ename": "AttributeError",
     "evalue": "'Cover' object has no attribute 'color'",
     "output_type": "error",
     "traceback": [
      "\u001b[1;31m---------------------------------------------------------------------------\u001b[0m",
      "\u001b[1;31mAttributeError\u001b[0m                            Traceback (most recent call last)",
      "Cell \u001b[1;32mIn[64], line 13\u001b[0m\n\u001b[0;32m     11\u001b[0m     \u001b[38;5;28;01mdef\u001b[39;00m \u001b[38;5;21m__init__\u001b[39m(\u001b[38;5;28mself\u001b[39m):\n\u001b[0;32m     12\u001b[0m         \u001b[38;5;28mself\u001b[39m\u001b[38;5;241m.\u001b[39m__color\u001b[38;5;241m=\u001b[39m\u001b[38;5;124m\"\u001b[39m\u001b[38;5;124mred\u001b[39m\u001b[38;5;124m\"\u001b[39m\n\u001b[1;32m---> 13\u001b[0m \u001b[43mCustomer\u001b[49m\u001b[43m(\u001b[49m\u001b[38;5;124;43m\"\u001b[39;49m\u001b[38;5;124;43mCus1\u001b[39;49m\u001b[38;5;124;43m\"\u001b[39;49m\u001b[43m,\u001b[49m\u001b[43mMobile\u001b[49m\u001b[43m(\u001b[49m\u001b[38;5;124;43m\"\u001b[39;49m\u001b[38;5;124;43mApple\u001b[39;49m\u001b[38;5;124;43m\"\u001b[39;49m\u001b[43m)\u001b[49m\u001b[43m)\u001b[49m\u001b[38;5;241;43m.\u001b[39;49m\u001b[43mmobile\u001b[49m\u001b[38;5;241;43m.\u001b[39;49m\u001b[43munlock\u001b[49m\u001b[43m(\u001b[49m\u001b[43mCover\u001b[49m\u001b[43m(\u001b[49m\u001b[43m)\u001b[49m\u001b[43m)\u001b[49m\n",
      "Cell \u001b[1;32mIn[64], line 9\u001b[0m, in \u001b[0;36mMobile.unlock\u001b[1;34m(self, cover)\u001b[0m\n\u001b[0;32m      8\u001b[0m \u001b[38;5;28;01mdef\u001b[39;00m \u001b[38;5;21munlock\u001b[39m(\u001b[38;5;28mself\u001b[39m,cover):\n\u001b[1;32m----> 9\u001b[0m     \u001b[38;5;28mprint\u001b[39m(\u001b[43mcover\u001b[49m\u001b[38;5;241;43m.\u001b[39;49m\u001b[43mcolor\u001b[49m)\n",
      "\u001b[1;31mAttributeError\u001b[0m: 'Cover' object has no attribute 'color'"
     ]
    }
   ],
   "source": [
    "class Customer:\n",
    "    def __init__(self,name,mobile):\n",
    "        self.name=name\n",
    "        self.mobile=mobile\n",
    "class Mobile:\n",
    "    def __init__(self,brand):\n",
    "        self.brand=brand\n",
    "    def unlock(self,cover):\n",
    "        print(cover.color)\n",
    "class Cover:\n",
    "    def __init__(self):\n",
    "        self.__color=\"red\"\n",
    "Customer(\"Cus1\",Mobile(\"Apple\")).mobile.unlock(Cover())"
   ]
  },
  {
   "cell_type": "code",
   "execution_count": 65,
   "id": "5be3b921",
   "metadata": {},
   "outputs": [
    {
     "name": "stdout",
     "output_type": "stream",
     "text": [
      "red\n"
     ]
    }
   ],
   "source": [
    "class Customer:\n",
    "    def __init__(self,name,mobile):\n",
    "        self.name=name\n",
    "        self.mobile=mobile\n",
    "class Mobile:\n",
    "    def __init__(self,brand):\n",
    "        self.brand=brand\n",
    "    def unlock(self,cover):\n",
    "        cover.color=\"yellow\"\n",
    "class Cover:\n",
    "    def __init__(self):\n",
    "        self.color=\"red\"\n",
    "Customer(\"Cus1\",Mobile(\"Apple\")).mobile.unlock(Cover())\n",
    "print(Cover().color)\n",
    " "
   ]
  },
  {
   "cell_type": "code",
   "execution_count": 66,
   "id": "9929cb46",
   "metadata": {},
   "outputs": [
    {
     "name": "stdout",
     "output_type": "stream",
     "text": [
      "Inside phone constructor\n"
     ]
    }
   ],
   "source": [
    "class Phone:\n",
    "    def __init__(self, price, brand, camera):\n",
    "        print (\"Inside phone constructor\")\n",
    "        self.price = price\n",
    "        self.brand = brand\n",
    "        self.camera = camera\n",
    "    def buy(self):\n",
    "        print (\"Buying a phone\")\n",
    "    def return_phone(self):\n",
    "        print (\"Returning a phone\")\n",
    "class FeaturePhone(Phone):\n",
    "    pass\n",
    "class SmartPhone(Phone):\n",
    "    pass\n",
    "s=SmartPhone(20000, \"Apple\", 13)\n"
   ]
  },
  {
   "cell_type": "code",
   "execution_count": 71,
   "id": "c31b15d4",
   "metadata": {},
   "outputs": [
    {
     "name": "stdout",
     "output_type": "stream",
     "text": [
      "Inside phone constructor\n"
     ]
    },
    {
     "ename": "NameError",
     "evalue": "name '_Phone' is not defined",
     "output_type": "error",
     "traceback": [
      "\u001b[1;31m---------------------------------------------------------------------------\u001b[0m",
      "\u001b[1;31mNameError\u001b[0m                                 Traceback (most recent call last)",
      "Cell \u001b[1;32mIn[71], line 17\u001b[0m\n\u001b[0;32m     15\u001b[0m         \u001b[38;5;28mprint\u001b[39m(_Phone\u001b[38;5;241m.\u001b[39m__price)\n\u001b[0;32m     16\u001b[0m s\u001b[38;5;241m=\u001b[39mSmartPhone(\u001b[38;5;241m20000\u001b[39m, \u001b[38;5;124m\"\u001b[39m\u001b[38;5;124mApple\u001b[39m\u001b[38;5;124m\"\u001b[39m, \u001b[38;5;241m13\u001b[39m)\n\u001b[1;32m---> 17\u001b[0m \u001b[43ms\u001b[49m\u001b[38;5;241;43m.\u001b[39;49m\u001b[43mcheck\u001b[49m\u001b[43m(\u001b[49m\u001b[43m)\u001b[49m\n",
      "Cell \u001b[1;32mIn[71], line 15\u001b[0m, in \u001b[0;36mSmartPhone.check\u001b[1;34m(self)\u001b[0m\n\u001b[0;32m     14\u001b[0m \u001b[38;5;28;01mdef\u001b[39;00m \u001b[38;5;21mcheck\u001b[39m(\u001b[38;5;28mself\u001b[39m):\n\u001b[1;32m---> 15\u001b[0m     \u001b[38;5;28mprint\u001b[39m(\u001b[43m_Phone\u001b[49m\u001b[38;5;241m.\u001b[39m__price)\n",
      "\u001b[1;31mNameError\u001b[0m: name '_Phone' is not defined"
     ]
    }
   ],
   "source": [
    "class Phone:\n",
    "    def __init__(self, price, brand, camera):\n",
    "        print (\"Inside phone constructor\")\n",
    "        self.__price = price\n",
    "        self.brand = brand\n",
    "        self.camera = camera\n",
    "    def buy(self):\n",
    "        print (\"Buying a phone\")\n",
    "    def return_phone(self):\n",
    "        print (\"Returning a phone\")\n",
    "class FeaturePhone(Phone):\n",
    "    pass\n",
    "class SmartPhone(Phone):\n",
    "    def check(self):\n",
    "        print(self.__price)\n",
    "s=SmartPhone(20000, \"Apple\", 13)\n",
    "s.check()\n"
   ]
  },
  {
   "cell_type": "code",
   "execution_count": 72,
   "id": "15d7b791",
   "metadata": {},
   "outputs": [
    {
     "name": "stdout",
     "output_type": "stream",
     "text": [
      "Inside phone constructor\n",
      "20000\n"
     ]
    }
   ],
   "source": [
    "class Phone:\n",
    "    def __init__(self, price, brand, camera):\n",
    "        print (\"Inside phone constructor\")\n",
    "        self.__price = price\n",
    "        self.brand = brand\n",
    "        self.camera = camera\n",
    "    def buy(self):\n",
    "        print (\"Buying a phone\")\n",
    "    def return_phone(self):\n",
    "        print (\"Returning a phone\")\n",
    "    def get_price(self):\n",
    "        return self.__price\n",
    "    def set_price(self,price):\n",
    "        self.__price=price\n",
    "class FeaturePhone(Phone):\n",
    "    pass\n",
    "class SmartPhone(Phone):\n",
    "    def check(self):\n",
    "        print(self.get_price())\n",
    "s=SmartPhone(20000, \"Apple\", 13)\n",
    "s.check()\n"
   ]
  },
  {
   "cell_type": "code",
   "execution_count": 74,
   "id": "ea465bc9",
   "metadata": {},
   "outputs": [
    {
     "name": "stdout",
     "output_type": "stream",
     "text": [
      "Inside phone constructor\n",
      "Buying a smartphone\n",
      "Buying a phone\n"
     ]
    }
   ],
   "source": [
    "class Phone:\n",
    "    def __init__(self, price, brand, camera):\n",
    "        print (\"Inside phone constructor\")\n",
    "        self.__price = price\n",
    "        self.brand = brand\n",
    "        self.camera = camera\n",
    "    def buy(self):\n",
    "        print (\"Buying a phone\")\n",
    "    def return_phone(self):\n",
    "        print (\"Returning a phone\")\n",
    "class FeaturePhone(Phone):\n",
    "    pass\n",
    "class SmartPhone(Phone):\n",
    "    def buy(self):\n",
    "        print (\"Buying a smartphone\")\n",
    "        super().buy()\n",
    "s=SmartPhone(20000, \"Apple\", 13)\n",
    "s.buy()\n"
   ]
  },
  {
   "cell_type": "code",
   "execution_count": 75,
   "id": "3c2bf58c",
   "metadata": {},
   "outputs": [
    {
     "name": "stdout",
     "output_type": "stream",
     "text": [
      "Inside SmartPhone constructor\n",
      "Android\n"
     ]
    },
    {
     "ename": "AttributeError",
     "evalue": "'SmartPhone' object has no attribute 'brand'",
     "output_type": "error",
     "traceback": [
      "\u001b[1;31m---------------------------------------------------------------------------\u001b[0m",
      "\u001b[1;31mAttributeError\u001b[0m                            Traceback (most recent call last)",
      "Cell \u001b[1;32mIn[75], line 22\u001b[0m\n\u001b[0;32m     20\u001b[0m s\u001b[38;5;241m=\u001b[39mSmartPhone(\u001b[38;5;124m\"\u001b[39m\u001b[38;5;124mAndroid\u001b[39m\u001b[38;5;124m\"\u001b[39m, \u001b[38;5;241m2\u001b[39m)\n\u001b[0;32m     21\u001b[0m \u001b[38;5;28mprint\u001b[39m (s\u001b[38;5;241m.\u001b[39mos)\n\u001b[1;32m---> 22\u001b[0m \u001b[38;5;28mprint\u001b[39m (\u001b[43ms\u001b[49m\u001b[38;5;241;43m.\u001b[39;49m\u001b[43mbrand\u001b[49m)\n",
      "\u001b[1;31mAttributeError\u001b[0m: 'SmartPhone' object has no attribute 'brand'"
     ]
    }
   ],
   "source": [
    "class Phone:\n",
    "    def __init__(self, price, brand, camera):\n",
    "        print (\"Inside phone constructor\")\n",
    "        self.__price = price\n",
    "        self.brand = brand\n",
    "        self.camera = camera\n",
    "    def buy(self):\n",
    "        print (\"Buying a phone\")\n",
    "    def return_phone(self):\n",
    "        print (\"Returning a phone\")\n",
    "class FeaturePhone(Phone):\n",
    "    pass\n",
    "class SmartPhone(Phone):\n",
    "    def __init__(self, os, ram):\n",
    "        self.os = os\n",
    "        self.ram = ram\n",
    "        print (\"Inside SmartPhone constructor\")\n",
    "    def buy(self):\n",
    "        print(\"Buying a SmartPhone\")\n",
    "s=SmartPhone(\"Android\", 2)\n",
    "print (s.os)\n",
    "print (s.brand)\n"
   ]
  },
  {
   "cell_type": "code",
   "execution_count": 76,
   "id": "a6bcb6ef",
   "metadata": {},
   "outputs": [
    {
     "name": "stdout",
     "output_type": "stream",
     "text": [
      "Inside phone constructor\n",
      "Inside smartphone constructor\n",
      "Android\n",
      "Samsung\n"
     ]
    }
   ],
   "source": [
    "class Phone:\n",
    "    def __init__(self, price, brand, camera):\n",
    "        print (\"Inside phone constructor\")\n",
    "        self.__price = price\n",
    "        self.brand = brand\n",
    "        self.camera = camera\n",
    "    def buy(self):\n",
    "        print (\"Buying a phone\")\n",
    "    def return_phone(self):\n",
    "        print (\"Returning a phone\")\n",
    "class FeaturePhone(Phone):\n",
    "    pass\n",
    "class SmartPhone(Phone):\n",
    "    def __init__(self, price, brand, camera, os, ram):\n",
    "        super().__init__(price, brand, camera)\n",
    "        self.os = os\n",
    "        self.ram = ram\n",
    "        print (\"Inside smartphone constructor\")\n",
    "    def buy(self):\n",
    "        print (\"Buying a smartphone\")\n",
    "s=SmartPhone(20000, \"Samsung\", 12, \"Android\", 2)\n",
    "print(s.os)\n",
    "print(s.brand)\n"
   ]
  },
  {
   "cell_type": "code",
   "execution_count": 132,
   "id": "42b2e5c0",
   "metadata": {},
   "outputs": [
    {
     "name": "stdout",
     "output_type": "stream",
     "text": [
      "88200.0\n",
      "C101\n",
      "144375.0\n",
      "S102\n",
      "10\n",
      "2598.75\n",
      "S103\n",
      "3\n",
      "2408.9625\n",
      "C104\n"
     ]
    }
   ],
   "source": [
    "class Apparel:\n",
    "    __counter=100\n",
    "    def __init__(self,price,item_type):\n",
    "        self.price=price\n",
    "        self.item_type=item_type\n",
    "        if (self.item_type == \"Cotton\"):\n",
    "            self.item_id=\"C\"+str(self.__counter+1)\n",
    "            #self.__counter=self.__counter+1\n",
    "            self.set_counter()\n",
    "        else:\n",
    "            self.item_id=\"S\"+str(self.__counter+1)\n",
    "            self.set_counter()\n",
    "    \n",
    "    def set_counter(self):\n",
    "        Apparel.__counter=Apparel.__counter+1\n",
    "        \n",
    "    def calculate_price(self):\n",
    "        self.price=self.price+0.05*self.price\n",
    "    \n",
    "    def get_item_id(self):\n",
    "        return self.item_id\n",
    "    \n",
    "    def get_price(self):\n",
    "        return self.price\n",
    "    \n",
    "    def get_item_type(self):\n",
    "        return self.item_type\n",
    "    \n",
    "    def set_price(price):\n",
    "        self.__price=price\n",
    "        \n",
    "\n",
    "class Cotton(Apparel):\n",
    "    def __init__(self,price,item_type,discount):\n",
    "        self.discount=discount\n",
    "        super().__init__(price,item_type)\n",
    "        \n",
    "    def calculate_price(self):\n",
    "        super().calculate_price()\n",
    "        self.price=self.price-(self.discount*self.price)/100\n",
    "        self.price=self.price+0.05*self.price\n",
    "        \n",
    "    def get_discount(self):\n",
    "        return self.discount\n",
    "        \n",
    "\n",
    "class Silk(Apparel):\n",
    "    def __init__(self,price,item_type):\n",
    "        super().__init__(price,item_type)\n",
    "        \n",
    "    def calculate_price(self):\n",
    "        super().calculate_price()\n",
    "        if self.price>10000:\n",
    "            self.points=10\n",
    "        else:\n",
    "            self.points=3\n",
    "        self.price=self.price+0.10*self.price\n",
    "        \n",
    "    def get_points(self):\n",
    "        return self.points\n",
    "    \n",
    "    \n",
    "customer1=Cotton(100000,\"Cotton\",20)\n",
    "customer1.calculate_price()\n",
    "print(customer1.get_price())\n",
    "print(customer1.get_item_id())\n",
    "customer2=Silk(125000,\"Silk\")\n",
    "customer2.calculate_price()\n",
    "print(customer2.get_price())\n",
    "print(customer2.get_item_id())\n",
    "print(customer2.get_points())\n",
    "customer3=Silk(2250,\"Silk\")\n",
    "customer3.calculate_price()\n",
    "print(customer3.get_price())\n",
    "print(customer3.get_item_id())\n",
    "print(customer3.get_points())\n",
    "customer4=Cotton(2300,\"Cotton\",5)\n",
    "customer4.calculate_price()\n",
    "print(customer4.get_price())\n",
    "print(customer4.get_item_id())\n",
    "        "
   ]
  },
  {
   "cell_type": "code",
   "execution_count": 82,
   "id": "ca4f2a04",
   "metadata": {},
   "outputs": [
    {
     "name": "stdout",
     "output_type": "stream",
     "text": [
      "Inside phone constructor\n",
      "Buying a smartphone\n",
      "Buying a phone\n"
     ]
    }
   ],
   "source": [
    "class Phone:\n",
    "    def __init__(self, price, brand, camera):\n",
    "        print (\"Inside phone constructor\")\n",
    "        self.__price = price\n",
    "        self.brand = brand\n",
    "        self.camera = camera\n",
    "    def buy(self):\n",
    "        print (\"Buying a phone\")\n",
    "    def return_phone(self):\n",
    "        print (\"Returning a phone\")\n",
    "class FeaturePhone(Phone):\n",
    "    pass\n",
    "class SmartPhone(Phone):\n",
    "    def buy(self):\n",
    "        print (\"Buying a smartphone\")\n",
    "        super().buy()\n",
    "s=SmartPhone(20000, \"Apple\", 13)\n",
    "s.buy()\n"
   ]
  },
  {
   "cell_type": "code",
   "execution_count": null,
   "id": "9a9ad551",
   "metadata": {},
   "outputs": [],
   "source": [
    "class CreditCard:\n",
    "    def __init__(self, card_no, balance):\n",
    "        self.card_no = card_no\n",
    "        self.balance = balance\n",
    "class Customer:\n",
    "    def __init__(self,cards):\n",
    "        self.cards=cards\n",
    "    def purchase_item(self, price, card_no):\n",
    "        if price < 0:\n",
    "            raise Exception()\n",
    "        if card_no not in self.cards:\n",
    "            raise Exception()\n",
    "        if price>self.cards[card_no].balance:\n",
    "            raise Exception()\n",
    "card1=CreditCard(101,800)\n",
    "card2=CreditCard(102,2000)\n",
    "cards={card1.card_no:card1,card2.card_no:card2}\n",
    "#print(cards)\n",
    "c=Customer(cards)\n",
    "while(True):\n",
    "    card_no=int(input(\"Please enter a card number\"))\n",
    "    try:\n",
    "        c.purchase_item(1200,card_no)\n",
    "        break\n",
    "    except Exception as e:\n",
    "        print(\"Something went wrong. \"+str(e))\n"
   ]
  },
  {
   "cell_type": "code",
   "execution_count": null,
   "id": "f4ae3690",
   "metadata": {},
   "outputs": [],
   "source": []
  },
  {
   "cell_type": "code",
   "execution_count": null,
   "id": "185c4d13",
   "metadata": {},
   "outputs": [],
   "source": []
  }
 ],
 "metadata": {
  "kernelspec": {
   "display_name": "Python 3 (ipykernel)",
   "language": "python",
   "name": "python3"
  },
  "language_info": {
   "codemirror_mode": {
    "name": "ipython",
    "version": 3
   },
   "file_extension": ".py",
   "mimetype": "text/x-python",
   "name": "python",
   "nbconvert_exporter": "python",
   "pygments_lexer": "ipython3",
   "version": "3.11.1"
  }
 },
 "nbformat": 4,
 "nbformat_minor": 5
}
