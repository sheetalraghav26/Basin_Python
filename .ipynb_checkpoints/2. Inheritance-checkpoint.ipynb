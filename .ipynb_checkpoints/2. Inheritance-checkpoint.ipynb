{
 "cells": [
  {
   "cell_type": "code",
   "execution_count": 1,
   "id": "c8c1b142",
   "metadata": {},
   "outputs": [
    {
     "name": "stdout",
     "output_type": "stream",
     "text": [
      "Parent class called.\n",
      "Child class called.\n"
     ]
    }
   ],
   "source": [
    "# Basic Program 1:\n",
    "\n",
    "class student(object):\n",
    "    \n",
    "    def __init__(self):\n",
    "        print(\"Parent class called.\")\n",
    "        \n",
    "class score(student):\n",
    "    \n",
    "    def __init__(self):\n",
    "        print(\"Child class called.\")\n",
    "        \n",
    "obj1=student()\n",
    "obj2=score()\n"
   ]
  },
  {
   "cell_type": "code",
   "execution_count": 6,
   "id": "ac57f54d",
   "metadata": {},
   "outputs": [
    {
     "name": "stdout",
     "output_type": "stream",
     "text": [
      "Parent class called.\n",
      "Child class called.\n",
      "This is display method of parent class.\n"
     ]
    }
   ],
   "source": [
    "# Basic Program 2:\n",
    "\n",
    "class student(object):\n",
    "    \n",
    "    def __init__(self):\n",
    "        print(\"Parent class called.\")\n",
    "        \n",
    "    def display(self):\n",
    "        print(\"This is display method of parent class.\")\n",
    "        \n",
    "class score(student):\n",
    "    \n",
    "    def __init__(self):\n",
    "        print(\"Child class called.\")\n",
    "        \n",
    "    \n",
    "        \n",
    "obj1=student()\n",
    "obj2=score()\n",
    "obj2.display()\n",
    "\n"
   ]
  },
  {
   "cell_type": "code",
   "execution_count": 7,
   "id": "60967a20",
   "metadata": {},
   "outputs": [
    {
     "name": "stdout",
     "output_type": "stream",
     "text": [
      "Parent class called.\n",
      "Child class called.\n",
      "This is display method of child class.\n",
      "This is display method of parent class.\n"
     ]
    }
   ],
   "source": [
    "# Basic Program 3:\n",
    "\n",
    "class student(object):\n",
    "    \n",
    "    def __init__(self):\n",
    "        print(\"Parent class called.\")\n",
    "        \n",
    "    def display(self):\n",
    "        print(\"This is display method of parent class.\")\n",
    "        \n",
    "class score(student):\n",
    "    \n",
    "    def __init__(self):\n",
    "        print(\"Child class called.\")\n",
    "        \n",
    "    def display(self):\n",
    "        print(\"This is display method of child class.\")\n",
    "        \n",
    "obj1=student()\n",
    "obj2=score()\n",
    "obj2.display()\n",
    "obj1.display()\n",
    "\n"
   ]
  },
  {
   "cell_type": "code",
   "execution_count": 9,
   "id": "94580f1d",
   "metadata": {},
   "outputs": [
    {
     "name": "stdout",
     "output_type": "stream",
     "text": [
      "Name: Ruby, ID: 113234\n",
      "This is child class.\n"
     ]
    }
   ],
   "source": [
    "# Basic Program 4:\n",
    "\n",
    "class Person(object):\n",
    "    \n",
    "    def __init__(self,name,empid):\n",
    "        self.name=name\n",
    "        self.empid=empid\n",
    "        \n",
    "    def display(self):\n",
    "        print(f\"Name: {self.name}, ID: {self.empid}\")\n",
    "        \n",
    "class Employee(Person):\n",
    "    \n",
    "    def show(self):\n",
    "        print(\"This is child class.\")\n",
    "        \n",
    "obj=Employee('Ruby',113234)\n",
    "obj.display()\n",
    "obj.show()\n"
   ]
  },
  {
   "cell_type": "code",
   "execution_count": 17,
   "id": "5aa256bc",
   "metadata": {},
   "outputs": [
    {
     "name": "stdout",
     "output_type": "stream",
     "text": [
      "Name of Animal: Daniel and its color is Black and breed is Dog.\n"
     ]
    }
   ],
   "source": [
    "\n",
    "# Python code to demonstrate how parent constructors\n",
    "# are called.\n",
    "\n",
    "\n",
    "class Breed(object):\n",
    "    \n",
    "    def __init__(self,name,color):\n",
    "        self.name=name\n",
    "        self.color=color\n",
    "        \n",
    "    #def display(self):\n",
    "     #   print(f\"Name of Animal: {self.name} and its color is {self.color}\")\n",
    "        \n",
    "class Animal(Breed):\n",
    "    \n",
    "    def __init__(self,name,color,breed):\n",
    "        self.breed=breed\n",
    "        \n",
    "        Breed.__init__(self,name,color)\n",
    "        \n",
    "    def display(self):\n",
    "        print(f\"Name of Animal: {self.name} and its color is {self.color} and breed is {self.breed}.\")\n",
    "        \n",
    "        \n",
    "    \n",
    "\n",
    "obj=Animal(\"Daniel\",\"Black\",\"Dog\")\n",
    "obj.display()"
   ]
  },
  {
   "cell_type": "code",
   "execution_count": 15,
   "id": "a7857768",
   "metadata": {},
   "outputs": [
    {
     "ename": "AttributeError",
     "evalue": "'Animal' object has no attribute 'name'",
     "output_type": "error",
     "traceback": [
      "\u001b[1;31m---------------------------------------------------------------------------\u001b[0m",
      "\u001b[1;31mAttributeError\u001b[0m                            Traceback (most recent call last)",
      "Cell \u001b[1;32mIn[15], line 24\u001b[0m\n\u001b[0;32m     19\u001b[0m         \u001b[38;5;28mprint\u001b[39m(\u001b[38;5;124mf\u001b[39m\u001b[38;5;124m\"\u001b[39m\u001b[38;5;124mBreed is \u001b[39m\u001b[38;5;132;01m{\u001b[39;00m\u001b[38;5;28mself\u001b[39m\u001b[38;5;241m.\u001b[39mbreed\u001b[38;5;132;01m}\u001b[39;00m\u001b[38;5;124m\"\u001b[39m)\n\u001b[0;32m     23\u001b[0m obj\u001b[38;5;241m=\u001b[39mAnimal(\u001b[38;5;124m\"\u001b[39m\u001b[38;5;124mDaniel\u001b[39m\u001b[38;5;124m\"\u001b[39m,\u001b[38;5;124m\"\u001b[39m\u001b[38;5;124mBlack\u001b[39m\u001b[38;5;124m\"\u001b[39m,\u001b[38;5;124m\"\u001b[39m\u001b[38;5;124mDog\u001b[39m\u001b[38;5;124m\"\u001b[39m)\n\u001b[1;32m---> 24\u001b[0m \u001b[43mobj\u001b[49m\u001b[38;5;241;43m.\u001b[39;49m\u001b[43mdisplay\u001b[49m\u001b[43m(\u001b[49m\u001b[43m)\u001b[49m\n\u001b[0;32m     25\u001b[0m obj\u001b[38;5;241m.\u001b[39mshow()\n",
      "Cell \u001b[1;32mIn[15], line 10\u001b[0m, in \u001b[0;36mBreed.display\u001b[1;34m(self)\u001b[0m\n\u001b[0;32m      9\u001b[0m \u001b[38;5;28;01mdef\u001b[39;00m \u001b[38;5;21mdisplay\u001b[39m(\u001b[38;5;28mself\u001b[39m):\n\u001b[1;32m---> 10\u001b[0m     \u001b[38;5;28mprint\u001b[39m(\u001b[38;5;124mf\u001b[39m\u001b[38;5;124m\"\u001b[39m\u001b[38;5;124mName of Animal: \u001b[39m\u001b[38;5;132;01m{\u001b[39;00m\u001b[38;5;28;43mself\u001b[39;49m\u001b[38;5;241;43m.\u001b[39;49m\u001b[43mname\u001b[49m\u001b[38;5;132;01m}\u001b[39;00m\u001b[38;5;124m and its color is \u001b[39m\u001b[38;5;132;01m{\u001b[39;00m\u001b[38;5;28mself\u001b[39m\u001b[38;5;241m.\u001b[39mcolor\u001b[38;5;132;01m}\u001b[39;00m\u001b[38;5;124m\"\u001b[39m)\n",
      "\u001b[1;31mAttributeError\u001b[0m: 'Animal' object has no attribute 'name'"
     ]
    }
   ],
   "source": [
    "\n",
    "# Python code to demonstrate without calling parent constructors.\n",
    "\n",
    "class Breed(object):\n",
    "    \n",
    "    def __init__(self,name,color):\n",
    "        self.name=name\n",
    "        self.color=color\n",
    "        \n",
    "    def display(self):\n",
    "        print(f\"Name of Animal: {self.name} and its color is {self.color}\")\n",
    "        \n",
    "class Animal(Breed):\n",
    "    \n",
    "    def __init__(self,name,color,breed):\n",
    "        self.breed=breed\n",
    "        \n",
    "        \n",
    "    def show(self):\n",
    "        print(f\"Breed is {self.breed}\")\n",
    "        \n",
    "    \n",
    "\n",
    "obj=Animal(\"Daniel\",\"Black\",\"Dog\")\n",
    "obj.display()\n",
    "obj.show()"
   ]
  },
  {
   "cell_type": "code",
   "execution_count": 20,
   "id": "162500d9",
   "metadata": {},
   "outputs": [],
   "source": [
    "# Types of Inheritance\n",
    "\n",
    "# 1. Single Inheritance\n",
    "# 2. Multilevel Inheritance\n",
    "# 3. Multiple Inheritance\n",
    "# 4. Hierarchical Inheritance\n",
    "# 5. Hybrid Inheritance"
   ]
  },
  {
   "cell_type": "code",
   "execution_count": 21,
   "id": "3cf423a6",
   "metadata": {},
   "outputs": [
    {
     "name": "stdout",
     "output_type": "stream",
     "text": [
      "This is parent class.\n",
      "This is Child class.\n"
     ]
    }
   ],
   "source": [
    "# Example of Single Inheritance -> Single child class derives properties from single parent class.\n",
    "\n",
    "class Parent(object):\n",
    "    \n",
    "    def display1(self):\n",
    "        print(\"This is parent class.\")\n",
    "        \n",
    "class Child(Parent):\n",
    "    \n",
    "    def display2(self):\n",
    "        print(\"This is Child class.\")\n",
    "        \n",
    "obj=Child()\n",
    "obj.display1()\n",
    "obj.display2()"
   ]
  },
  {
   "cell_type": "code",
   "execution_count": 26,
   "id": "4ee8dd0b",
   "metadata": {},
   "outputs": [
    {
     "name": "stdout",
     "output_type": "stream",
     "text": [
      "This is Parent class.\n",
      "This is Sub parent class.\n",
      "This is child class.\n"
     ]
    }
   ],
   "source": [
    "# Basic Example of Multilevel Inheritance -> \n",
    "# When child class derives properties from single parent class which further derives properties from different Parent class.\n",
    "\n",
    "class Parent(object):\n",
    "    \n",
    "    def display1(self):\n",
    "        print(\"This is Parent class.\")\n",
    "        \n",
    "class SubParent(Parent):\n",
    "    \n",
    "    def display2(self):\n",
    "        print(\"This is Sub parent class.\")\n",
    "        \n",
    "class Child(SubParent):\n",
    "    \n",
    "    def display3(self):\n",
    "        print(\"This is child class.\")\n",
    "        \n",
    "obj1=Child()\n",
    "obj1.display1()\n",
    "obj1.display2()\n",
    "obj1.display3()"
   ]
  },
  {
   "cell_type": "code",
   "execution_count": 31,
   "id": "1cdd9d14",
   "metadata": {},
   "outputs": [
    {
     "name": "stdout",
     "output_type": "stream",
     "text": [
      "Grandfather's name is Jasper.\n",
      "Father's name is Harry.\n",
      "Son's name is Johny.\n",
      "Jasper,Harry,Johny\n"
     ]
    }
   ],
   "source": [
    "# Example 2 of multilevel Inheritance\n",
    "\n",
    "class grandfather(object):\n",
    "    \n",
    "    def __init__(self,gname):\n",
    "        self.gname=gname\n",
    "        \n",
    "class father(grandfather):\n",
    "    \n",
    "    def __init__(self,gname,fname):\n",
    "        self.fname=fname\n",
    "        \n",
    "        grandfather.__init__(self,gname)\n",
    "        \n",
    "class son(father):\n",
    "    \n",
    "    def __init__(self,sname,fname,gname):\n",
    "        self.sname=sname\n",
    "            \n",
    "        father.__init__(self,gname,fname)\n",
    "        \n",
    "    def display(self):\n",
    "        print(f\"{self.gname},{self.fname},{self.sname}\")\n",
    "        \n",
    "name=son('Johny','Harry','Jasper')\n",
    "print(f\"Grandfather's name is {name.gname}.\\nFather's name is {name.fname}.\\nSon's name is {name.sname}.\")\n",
    "name.display()"
   ]
  },
  {
   "cell_type": "code",
   "execution_count": 33,
   "id": "1c05ea51",
   "metadata": {},
   "outputs": [
    {
     "name": "stdout",
     "output_type": "stream",
     "text": [
      "Mother's Name is Jasmine\n",
      "Father's Name is Micheal\n",
      "Father's name: Micheal\n",
      "Mother's name: Jasmine\n",
      "Child's name: Nancy\n"
     ]
    }
   ],
   "source": [
    "# Example of Multiple Inheritance -> When single child class derives properties from more than one parent class.\n",
    "\n",
    "class father(object):\n",
    "    \n",
    "    def __init__(self,fname):\n",
    "        self.fname=fname\n",
    "        \n",
    "class mother(object):\n",
    "    \n",
    "    def __init__(self,mname):\n",
    "        self.mname=mname\n",
    "        \n",
    "class child(father,mother):\n",
    "    \n",
    "    def __init__(self,cname,mname,fname):\n",
    "        self.cname=cname\n",
    "        \n",
    "        mother.__init__(self,mname)\n",
    "        father.__init__(self,fname)\n",
    "        \n",
    "    def display(self):\n",
    "        print(f\"Father's name: {self.fname}\\nMother's name: {self.mname}\\nChild's name: {self.cname}\")\n",
    "        \n",
    "    \n",
    "name=child(\"Nancy\",\"Jasmine\",\"Micheal\")\n",
    "print(f\"Mother's Name is {name.mname}\")\n",
    "print(f\"Father's Name is {name.fname}\")\n",
    "name.display()"
   ]
  },
  {
   "cell_type": "code",
   "execution_count": 35,
   "id": "eec25797",
   "metadata": {},
   "outputs": [
    {
     "name": "stdout",
     "output_type": "stream",
     "text": [
      "Father : RAM\n",
      "Mother : SITA\n",
      "RAM\n",
      "SITA\n"
     ]
    }
   ],
   "source": [
    "# Python program to demonstrate\n",
    "# multiple inheritance\n",
    "\n",
    "# Base class1\n",
    "class Mother:\n",
    "\tmothername = \"\"\n",
    "\n",
    "\tdef mother(self):\n",
    "\t\tprint(self.mothername)\n",
    "\n",
    "# Base class2\n",
    "\n",
    "\n",
    "class Father:\n",
    "\tfathername = \"\"\n",
    "\n",
    "\tdef father(self):\n",
    "\t\tprint(self.fathername)\n",
    "\n",
    "# Derived class\n",
    "\n",
    "\n",
    "class Son(Mother, Father):\n",
    "\tdef parents(self):\n",
    "\t\tprint(\"Father :\", self.fathername)\n",
    "\t\tprint(\"Mother :\", self.mothername)\n",
    "\n",
    "\n",
    "# Driver's code\n",
    "s1 = Son()\n",
    "s1.fathername = \"RAM\"\n",
    "s1.mothername = \"SITA\"\n",
    "s1.parents()\n",
    "s1.father()\n",
    "s1.mother()\n"
   ]
  },
  {
   "cell_type": "code",
   "execution_count": 39,
   "id": "f5c31178",
   "metadata": {},
   "outputs": [
    {
     "name": "stdout",
     "output_type": "stream",
     "text": [
      "Child's name: Kinsy\n",
      "Mother's name: William\n",
      "Father's name: Rose\n",
      "Child's name: Robert\n",
      "Mother's name: Thomas\n",
      "Father's name: Maria\n"
     ]
    }
   ],
   "source": [
    "# Example of Hierarchical Inheritance -> When more than one child class derives properties from single parent class.\n",
    "\n",
    "class Family(object):\n",
    "    \n",
    "    def __init__(self,fname,mname):\n",
    "        self.fname=fname\n",
    "        self.mname=mname\n",
    "        \n",
    "class Child1(Family):\n",
    "    \n",
    "    def __init__(self,c1name,fname,mname):\n",
    "        self.c1name=c1name\n",
    "        \n",
    "        Family.__init__(self,fname,mname)\n",
    "        \n",
    "    def display(self):\n",
    "        print(f\"Child's name: {self.c1name}\\nMother's name: {self.mname}\\nFather's name: {self.fname}\")\n",
    "        \n",
    "class Child2(Family):\n",
    "    \n",
    "    def __init__(self,c2name,fname,mname):\n",
    "        self.c2name=c2name\n",
    "        \n",
    "        Family.__init__(self,fname,mname)\n",
    "        \n",
    "    def display(self):\n",
    "        print(f\"Child's name: {self.c2name}\\nMother's name: {self.mname}\\nFather's name: {self.fname}\")\n",
    "        \n",
    "obj1=Child1('Kinsy','Rose','William')\n",
    "obj2=Child2('Robert','Maria','Thomas')\n",
    "obj1.display()\n",
    "obj2.display()"
   ]
  },
  {
   "cell_type": "code",
   "execution_count": null,
   "id": "34fc2868",
   "metadata": {},
   "outputs": [],
   "source": []
  }
 ],
 "metadata": {
  "kernelspec": {
   "display_name": "Python 3 (ipykernel)",
   "language": "python",
   "name": "python3"
  },
  "language_info": {
   "codemirror_mode": {
    "name": "ipython",
    "version": 3
   },
   "file_extension": ".py",
   "mimetype": "text/x-python",
   "name": "python",
   "nbconvert_exporter": "python",
   "pygments_lexer": "ipython3",
   "version": "3.11.1"
  }
 },
 "nbformat": 4,
 "nbformat_minor": 5
}
